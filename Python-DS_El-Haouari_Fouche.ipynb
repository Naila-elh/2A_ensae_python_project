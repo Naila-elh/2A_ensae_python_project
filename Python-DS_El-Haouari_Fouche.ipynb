{
 "cells": [
  {
   "cell_type": "markdown",
   "metadata": {
    "collapsed": true
   },
   "source": [
    "# Python pour un Data Scientist : \n",
    "# Retrouver les pays à partir des discours prononcés à l'ONU\n",
    "### Naïla El Haouari, Coline Fouché"
   ]
  },
  {
   "cell_type": "markdown",
   "metadata": {},
   "source": [
    "# Introduction "
   ]
  },
  {
   "cell_type": "markdown",
   "metadata": {},
   "source": [
    "Depuis sa création en 1947, l'ONU accueille chaque année des représentants des Etats membres en Assemblée générale, afin de faciliter le dialogue entre les Etats. Ses objectifs sont les suivants : maintenir la paix et la sécurité internationale, protéger les droits de l'homme, fournir de l'aide alimentaire, promouvoir le développement durable, et garantir le droit international. Dès lors, des représentants des pays membres se doivent de tenir des discours présentant la politique de leur pays en relation et réaction avec les événements internationaux. Cependant, est-il possible de retrouver quel Etat parle en fonction de son discours ?\n",
    "\n",
    "Les données à notre disposition proviennent du site Kaggle (https://www.kaggle.com/unitednations/un-general-debates) et comprennent le texte (en anglais) de tous les discours tenus en assemblée générale à l'ONU par les représentants des différents Etats membres des Nations Unies, par pays, entre 1970 et 2016. A l'aide de techniques de Data Science - et en particulier, en ayant recours au NLP pour étudier les discours plus en détail - nous avons construit un modèle de classification pour prévoir, à partir du discours, quel pays est représenté. Constatant qu'il nous fallait prédire 199 pays, contre seulement 6 continents, nous avons par la suite construit également un modèle de prédiction du continent d'origine des discours. Notre efficacité prédictive s'en est trouvé améliorée. Nous avons comparé plusieurs modèles mathématiques, ainsi que plusieurs paramètres, pour voir ce qui nous permettait de prédire au mieux ces deux éléments."
   ]
  },
  {
   "cell_type": "markdown",
   "metadata": {},
   "source": [
    "# 0. Ouverture des données"
   ]
  },
  {
   "cell_type": "code",
   "execution_count": 1,
   "metadata": {
    "collapsed": true
   },
   "outputs": [],
   "source": [
    "import pandas as pd\n",
    "import numpy as np\n",
    "import re\n",
    "import matplotlib.pyplot as plt\n",
    "\n",
    "\n",
    "%matplotlib inline"
   ]
  },
  {
   "cell_type": "code",
   "execution_count": 2,
   "metadata": {
    "collapsed": true
   },
   "outputs": [],
   "source": [
    "import nltk\n",
    "import nltk.stem\n",
    "from nltk.tokenize import word_tokenize, sent_tokenize, PunktSentenceTokenizer, RegexpTokenizer\n",
    "from nltk.corpus import stopwords"
   ]
  },
  {
   "cell_type": "markdown",
   "metadata": {},
   "source": [
    "On charge les données"
   ]
  },
  {
   "cell_type": "code",
   "execution_count": 3,
   "metadata": {
    "collapsed": true
   },
   "outputs": [],
   "source": [
    "data= pd.read_csv(\"un-general-debates\\\\un-general-debates.csv\")"
   ]
  },
  {
   "cell_type": "code",
   "execution_count": 4,
   "metadata": {},
   "outputs": [
    {
     "data": {
      "text/html": [
       "<div>\n",
       "<style>\n",
       "    .dataframe thead tr:only-child th {\n",
       "        text-align: right;\n",
       "    }\n",
       "\n",
       "    .dataframe thead th {\n",
       "        text-align: left;\n",
       "    }\n",
       "\n",
       "    .dataframe tbody tr th {\n",
       "        vertical-align: top;\n",
       "    }\n",
       "</style>\n",
       "<table border=\"1\" class=\"dataframe\">\n",
       "  <thead>\n",
       "    <tr style=\"text-align: right;\">\n",
       "      <th></th>\n",
       "      <th>session</th>\n",
       "      <th>year</th>\n",
       "      <th>country</th>\n",
       "      <th>text</th>\n",
       "    </tr>\n",
       "  </thead>\n",
       "  <tbody>\n",
       "    <tr>\n",
       "      <th>0</th>\n",
       "      <td>44</td>\n",
       "      <td>1989</td>\n",
       "      <td>MDV</td>\n",
       "      <td>﻿It is indeed a pleasure for me and the member...</td>\n",
       "    </tr>\n",
       "    <tr>\n",
       "      <th>1</th>\n",
       "      <td>44</td>\n",
       "      <td>1989</td>\n",
       "      <td>FIN</td>\n",
       "      <td>﻿\\nMay I begin by congratulating you. Sir, on ...</td>\n",
       "    </tr>\n",
       "    <tr>\n",
       "      <th>2</th>\n",
       "      <td>44</td>\n",
       "      <td>1989</td>\n",
       "      <td>NER</td>\n",
       "      <td>﻿\\nMr. President, it is a particular pleasure ...</td>\n",
       "    </tr>\n",
       "    <tr>\n",
       "      <th>3</th>\n",
       "      <td>44</td>\n",
       "      <td>1989</td>\n",
       "      <td>URY</td>\n",
       "      <td>﻿\\nDuring the debate at the fortieth session o...</td>\n",
       "    </tr>\n",
       "    <tr>\n",
       "      <th>4</th>\n",
       "      <td>44</td>\n",
       "      <td>1989</td>\n",
       "      <td>ZWE</td>\n",
       "      <td>﻿I should like at the outset to express my del...</td>\n",
       "    </tr>\n",
       "  </tbody>\n",
       "</table>\n",
       "</div>"
      ],
      "text/plain": [
       "   session  year country                                               text\n",
       "0       44  1989     MDV  ﻿It is indeed a pleasure for me and the member...\n",
       "1       44  1989     FIN  ﻿\\nMay I begin by congratulating you. Sir, on ...\n",
       "2       44  1989     NER  ﻿\\nMr. President, it is a particular pleasure ...\n",
       "3       44  1989     URY  ﻿\\nDuring the debate at the fortieth session o...\n",
       "4       44  1989     ZWE  ﻿I should like at the outset to express my del..."
      ]
     },
     "execution_count": 4,
     "metadata": {},
     "output_type": "execute_result"
    }
   ],
   "source": [
    "data.head()"
   ]
  },
  {
   "cell_type": "code",
   "execution_count": 5,
   "metadata": {},
   "outputs": [
    {
     "data": {
      "text/html": [
       "<div>\n",
       "<style>\n",
       "    .dataframe thead tr:only-child th {\n",
       "        text-align: right;\n",
       "    }\n",
       "\n",
       "    .dataframe thead th {\n",
       "        text-align: left;\n",
       "    }\n",
       "\n",
       "    .dataframe tbody tr th {\n",
       "        vertical-align: top;\n",
       "    }\n",
       "</style>\n",
       "<table border=\"1\" class=\"dataframe\">\n",
       "  <thead>\n",
       "    <tr style=\"text-align: right;\">\n",
       "      <th></th>\n",
       "      <th>session</th>\n",
       "      <th>year</th>\n",
       "      <th>country</th>\n",
       "      <th>text</th>\n",
       "    </tr>\n",
       "  </thead>\n",
       "  <tbody>\n",
       "    <tr>\n",
       "      <th>count</th>\n",
       "      <td>7507.000000</td>\n",
       "      <td>7507.000000</td>\n",
       "      <td>7507</td>\n",
       "      <td>7507</td>\n",
       "    </tr>\n",
       "    <tr>\n",
       "      <th>unique</th>\n",
       "      <td>NaN</td>\n",
       "      <td>NaN</td>\n",
       "      <td>199</td>\n",
       "      <td>7507</td>\n",
       "    </tr>\n",
       "    <tr>\n",
       "      <th>top</th>\n",
       "      <td>NaN</td>\n",
       "      <td>NaN</td>\n",
       "      <td>BOL</td>\n",
       "      <td>I would like to extend \\nmy congratulations to...</td>\n",
       "    </tr>\n",
       "    <tr>\n",
       "      <th>freq</th>\n",
       "      <td>NaN</td>\n",
       "      <td>NaN</td>\n",
       "      <td>46</td>\n",
       "      <td>1</td>\n",
       "    </tr>\n",
       "    <tr>\n",
       "      <th>mean</th>\n",
       "      <td>49.610763</td>\n",
       "      <td>1994.610763</td>\n",
       "      <td>NaN</td>\n",
       "      <td>NaN</td>\n",
       "    </tr>\n",
       "    <tr>\n",
       "      <th>std</th>\n",
       "      <td>12.892155</td>\n",
       "      <td>12.892155</td>\n",
       "      <td>NaN</td>\n",
       "      <td>NaN</td>\n",
       "    </tr>\n",
       "    <tr>\n",
       "      <th>min</th>\n",
       "      <td>25.000000</td>\n",
       "      <td>1970.000000</td>\n",
       "      <td>NaN</td>\n",
       "      <td>NaN</td>\n",
       "    </tr>\n",
       "    <tr>\n",
       "      <th>25%</th>\n",
       "      <td>39.000000</td>\n",
       "      <td>1984.000000</td>\n",
       "      <td>NaN</td>\n",
       "      <td>NaN</td>\n",
       "    </tr>\n",
       "    <tr>\n",
       "      <th>50%</th>\n",
       "      <td>51.000000</td>\n",
       "      <td>1996.000000</td>\n",
       "      <td>NaN</td>\n",
       "      <td>NaN</td>\n",
       "    </tr>\n",
       "    <tr>\n",
       "      <th>75%</th>\n",
       "      <td>61.000000</td>\n",
       "      <td>2006.000000</td>\n",
       "      <td>NaN</td>\n",
       "      <td>NaN</td>\n",
       "    </tr>\n",
       "    <tr>\n",
       "      <th>max</th>\n",
       "      <td>70.000000</td>\n",
       "      <td>2015.000000</td>\n",
       "      <td>NaN</td>\n",
       "      <td>NaN</td>\n",
       "    </tr>\n",
       "  </tbody>\n",
       "</table>\n",
       "</div>"
      ],
      "text/plain": [
       "            session         year country  \\\n",
       "count   7507.000000  7507.000000    7507   \n",
       "unique          NaN          NaN     199   \n",
       "top             NaN          NaN     BOL   \n",
       "freq            NaN          NaN      46   \n",
       "mean      49.610763  1994.610763     NaN   \n",
       "std       12.892155    12.892155     NaN   \n",
       "min       25.000000  1970.000000     NaN   \n",
       "25%       39.000000  1984.000000     NaN   \n",
       "50%       51.000000  1996.000000     NaN   \n",
       "75%       61.000000  2006.000000     NaN   \n",
       "max       70.000000  2015.000000     NaN   \n",
       "\n",
       "                                                     text  \n",
       "count                                                7507  \n",
       "unique                                               7507  \n",
       "top     I would like to extend \\nmy congratulations to...  \n",
       "freq                                                    1  \n",
       "mean                                                  NaN  \n",
       "std                                                   NaN  \n",
       "min                                                   NaN  \n",
       "25%                                                   NaN  \n",
       "50%                                                   NaN  \n",
       "75%                                                   NaN  \n",
       "max                                                   NaN  "
      ]
     },
     "execution_count": 5,
     "metadata": {},
     "output_type": "execute_result"
    }
   ],
   "source": [
    "data.describe(include=\"all\")"
   ]
  },
  {
   "cell_type": "markdown",
   "metadata": {},
   "source": [
    "# 1. Recodage et recherche de features"
   ]
  },
  {
   "cell_type": "markdown",
   "metadata": {},
   "source": [
    "Notre base de données ne comprend qu'une seule variable susceptible de nous permettre de distinguer les pays entre eux : la variable \"text\", qui comprend tous les discours des représentants des pays de l'ONU. On cherchera diverses manières de caractériser les discours, pour obtenir plusieurs features pour notre modèle."
   ]
  },
  {
   "cell_type": "markdown",
   "metadata": {},
   "source": [
    "### Recodage des mots"
   ]
  },
  {
   "cell_type": "markdown",
   "metadata": {},
   "source": [
    "On crée la variable \"mots\" qui est l'ensemble des mots du discours, en minuscule, sans signes de ponctuation"
   ]
  },
  {
   "cell_type": "code",
   "execution_count": 5,
   "metadata": {
    "collapsed": true
   },
   "outputs": [],
   "source": [
    "data['text'] = data['text'].str.lower()\n",
    "tokenizer = RegexpTokenizer(r'\\w+')\n",
    "data['mots']=data['text'].apply(tokenizer.tokenize)"
   ]
  },
  {
   "cell_type": "code",
   "execution_count": 8,
   "metadata": {},
   "outputs": [
    {
     "data": {
      "text/html": [
       "<div>\n",
       "<style>\n",
       "    .dataframe thead tr:only-child th {\n",
       "        text-align: right;\n",
       "    }\n",
       "\n",
       "    .dataframe thead th {\n",
       "        text-align: left;\n",
       "    }\n",
       "\n",
       "    .dataframe tbody tr th {\n",
       "        vertical-align: top;\n",
       "    }\n",
       "</style>\n",
       "<table border=\"1\" class=\"dataframe\">\n",
       "  <thead>\n",
       "    <tr style=\"text-align: right;\">\n",
       "      <th></th>\n",
       "      <th>session</th>\n",
       "      <th>year</th>\n",
       "      <th>country</th>\n",
       "      <th>text</th>\n",
       "      <th>mots</th>\n",
       "    </tr>\n",
       "  </thead>\n",
       "  <tbody>\n",
       "    <tr>\n",
       "      <th>0</th>\n",
       "      <td>44</td>\n",
       "      <td>1989</td>\n",
       "      <td>MDV</td>\n",
       "      <td>﻿it is indeed a pleasure for me and the member...</td>\n",
       "      <td>[it, is, indeed, a, pleasure, for, me, and, th...</td>\n",
       "    </tr>\n",
       "    <tr>\n",
       "      <th>1</th>\n",
       "      <td>44</td>\n",
       "      <td>1989</td>\n",
       "      <td>FIN</td>\n",
       "      <td>﻿\\nmay i begin by congratulating you. sir, on ...</td>\n",
       "      <td>[may, i, begin, by, congratulating, you, sir, ...</td>\n",
       "    </tr>\n",
       "    <tr>\n",
       "      <th>2</th>\n",
       "      <td>44</td>\n",
       "      <td>1989</td>\n",
       "      <td>NER</td>\n",
       "      <td>﻿\\nmr. president, it is a particular pleasure ...</td>\n",
       "      <td>[mr, president, it, is, a, particular, pleasur...</td>\n",
       "    </tr>\n",
       "    <tr>\n",
       "      <th>3</th>\n",
       "      <td>44</td>\n",
       "      <td>1989</td>\n",
       "      <td>URY</td>\n",
       "      <td>﻿\\nduring the debate at the fortieth session o...</td>\n",
       "      <td>[during, the, debate, at, the, fortieth, sessi...</td>\n",
       "    </tr>\n",
       "    <tr>\n",
       "      <th>4</th>\n",
       "      <td>44</td>\n",
       "      <td>1989</td>\n",
       "      <td>ZWE</td>\n",
       "      <td>﻿i should like at the outset to express my del...</td>\n",
       "      <td>[i, should, like, at, the, outset, to, express...</td>\n",
       "    </tr>\n",
       "  </tbody>\n",
       "</table>\n",
       "</div>"
      ],
      "text/plain": [
       "   session  year country                                               text  \\\n",
       "0       44  1989     MDV  ﻿it is indeed a pleasure for me and the member...   \n",
       "1       44  1989     FIN  ﻿\\nmay i begin by congratulating you. sir, on ...   \n",
       "2       44  1989     NER  ﻿\\nmr. president, it is a particular pleasure ...   \n",
       "3       44  1989     URY  ﻿\\nduring the debate at the fortieth session o...   \n",
       "4       44  1989     ZWE  ﻿i should like at the outset to express my del...   \n",
       "\n",
       "                                                mots  \n",
       "0  [it, is, indeed, a, pleasure, for, me, and, th...  \n",
       "1  [may, i, begin, by, congratulating, you, sir, ...  \n",
       "2  [mr, president, it, is, a, particular, pleasur...  \n",
       "3  [during, the, debate, at, the, fortieth, sessi...  \n",
       "4  [i, should, like, at, the, outset, to, express...  "
      ]
     },
     "execution_count": 8,
     "metadata": {},
     "output_type": "execute_result"
    }
   ],
   "source": [
    "data.head()"
   ]
  },
  {
   "cell_type": "markdown",
   "metadata": {},
   "source": [
    "La variable Clean regroupe quant à elle les mots de chaque discours, sans les mots de liaison ('it', 'I', 'and',...) qui sont inclus dans les stopwords."
   ]
  },
  {
   "cell_type": "code",
   "execution_count": 6,
   "metadata": {
    "collapsed": true
   },
   "outputs": [],
   "source": [
    "stop_words = set(stopwords.words('english'))\n",
    "data['clean'] = data['mots'].apply(lambda x: [w for w in x if w not in stop_words])"
   ]
  },
  {
   "cell_type": "code",
   "execution_count": 10,
   "metadata": {},
   "outputs": [
    {
     "data": {
      "text/html": [
       "<div>\n",
       "<style>\n",
       "    .dataframe thead tr:only-child th {\n",
       "        text-align: right;\n",
       "    }\n",
       "\n",
       "    .dataframe thead th {\n",
       "        text-align: left;\n",
       "    }\n",
       "\n",
       "    .dataframe tbody tr th {\n",
       "        vertical-align: top;\n",
       "    }\n",
       "</style>\n",
       "<table border=\"1\" class=\"dataframe\">\n",
       "  <thead>\n",
       "    <tr style=\"text-align: right;\">\n",
       "      <th></th>\n",
       "      <th>session</th>\n",
       "      <th>year</th>\n",
       "      <th>country</th>\n",
       "      <th>text</th>\n",
       "      <th>mots</th>\n",
       "      <th>clean</th>\n",
       "    </tr>\n",
       "  </thead>\n",
       "  <tbody>\n",
       "    <tr>\n",
       "      <th>0</th>\n",
       "      <td>44</td>\n",
       "      <td>1989</td>\n",
       "      <td>MDV</td>\n",
       "      <td>﻿it is indeed a pleasure for me and the member...</td>\n",
       "      <td>[it, is, indeed, a, pleasure, for, me, and, th...</td>\n",
       "      <td>[indeed, pleasure, members, delegation, extend...</td>\n",
       "    </tr>\n",
       "    <tr>\n",
       "      <th>1</th>\n",
       "      <td>44</td>\n",
       "      <td>1989</td>\n",
       "      <td>FIN</td>\n",
       "      <td>﻿\\nmay i begin by congratulating you. sir, on ...</td>\n",
       "      <td>[may, i, begin, by, congratulating, you, sir, ...</td>\n",
       "      <td>[may, begin, congratulating, sir, election, pr...</td>\n",
       "    </tr>\n",
       "    <tr>\n",
       "      <th>2</th>\n",
       "      <td>44</td>\n",
       "      <td>1989</td>\n",
       "      <td>NER</td>\n",
       "      <td>﻿\\nmr. president, it is a particular pleasure ...</td>\n",
       "      <td>[mr, president, it, is, a, particular, pleasur...</td>\n",
       "      <td>[mr, president, particular, pleasure, behalf, ...</td>\n",
       "    </tr>\n",
       "    <tr>\n",
       "      <th>3</th>\n",
       "      <td>44</td>\n",
       "      <td>1989</td>\n",
       "      <td>URY</td>\n",
       "      <td>﻿\\nduring the debate at the fortieth session o...</td>\n",
       "      <td>[during, the, debate, at, the, fortieth, sessi...</td>\n",
       "      <td>[debate, fortieth, session, general, assembly,...</td>\n",
       "    </tr>\n",
       "    <tr>\n",
       "      <th>4</th>\n",
       "      <td>44</td>\n",
       "      <td>1989</td>\n",
       "      <td>ZWE</td>\n",
       "      <td>﻿i should like at the outset to express my del...</td>\n",
       "      <td>[i, should, like, at, the, outset, to, express...</td>\n",
       "      <td>[like, outset, express, delegation, satisfacti...</td>\n",
       "    </tr>\n",
       "  </tbody>\n",
       "</table>\n",
       "</div>"
      ],
      "text/plain": [
       "   session  year country                                               text  \\\n",
       "0       44  1989     MDV  ﻿it is indeed a pleasure for me and the member...   \n",
       "1       44  1989     FIN  ﻿\\nmay i begin by congratulating you. sir, on ...   \n",
       "2       44  1989     NER  ﻿\\nmr. president, it is a particular pleasure ...   \n",
       "3       44  1989     URY  ﻿\\nduring the debate at the fortieth session o...   \n",
       "4       44  1989     ZWE  ﻿i should like at the outset to express my del...   \n",
       "\n",
       "                                                mots  \\\n",
       "0  [it, is, indeed, a, pleasure, for, me, and, th...   \n",
       "1  [may, i, begin, by, congratulating, you, sir, ...   \n",
       "2  [mr, president, it, is, a, particular, pleasur...   \n",
       "3  [during, the, debate, at, the, fortieth, sessi...   \n",
       "4  [i, should, like, at, the, outset, to, express...   \n",
       "\n",
       "                                               clean  \n",
       "0  [indeed, pleasure, members, delegation, extend...  \n",
       "1  [may, begin, congratulating, sir, election, pr...  \n",
       "2  [mr, president, particular, pleasure, behalf, ...  \n",
       "3  [debate, fortieth, session, general, assembly,...  \n",
       "4  [like, outset, express, delegation, satisfacti...  "
      ]
     },
     "execution_count": 10,
     "metadata": {},
     "output_type": "execute_result"
    }
   ],
   "source": [
    "data.head()"
   ]
  },
  {
   "cell_type": "markdown",
   "metadata": {},
   "source": [
    "On recherche des features pour faire notre classification. Il faut donc créer des variables qui distinguent les discours selon les pays."
   ]
  },
  {
   "cell_type": "markdown",
   "metadata": {},
   "source": [
    "### Longueur des phrases et des discours"
   ]
  },
  {
   "cell_type": "markdown",
   "metadata": {},
   "source": [
    "La longueur des phrases et des discours (moyen par pays) peut varier selon les pays. La longueur moyenne des discours peut relever de l'implication d'un Etat au sein de l'ONU ou des affaires étrangères, mais aussi de la manière dont on tend à s'exprimer dans certains pays - ce qui tient davantage des particularités culturelles."
   ]
  },
  {
   "cell_type": "markdown",
   "metadata": {},
   "source": [
    "#### Construction des variables"
   ]
  },
  {
   "cell_type": "code",
   "execution_count": 7,
   "metadata": {
    "collapsed": true
   },
   "outputs": [],
   "source": [
    "data['nb_char'] = data['text'].str.len()\n",
    "data['phrases'] = data['text'].str.split('.')\n",
    "data['nb_mots'] = data['clean'].str.len() #On prend les mots clean, cad sans les petits mots de liaison\n",
    "data['nb_phrases'] = data['phrases'].str.len()\n",
    "data['long_mots'] = data['nb_char'] / data['nb_mots']\n",
    "data['long_phrases'] = data['nb_mots'] / data['nb_phrases']"
   ]
  },
  {
   "cell_type": "markdown",
   "metadata": {},
   "source": [
    "#### Représentation"
   ]
  },
  {
   "cell_type": "code",
   "execution_count": 8,
   "metadata": {},
   "outputs": [
    {
     "name": "stdout",
     "output_type": "stream",
     "text": [
      "Pays dont les discours comprennent en moyenne le plus et le moins de mots\n",
      "country\n",
      "RUS    2306.955556\n",
      "IRL    2243.444444\n",
      "CUB    2165.586957\n",
      "LBY    2117.159091\n",
      "EGY    2099.613636\n",
      "USA    2053.826087\n",
      "IRN    2030.065217\n",
      "DEU    2029.813953\n",
      "CSK    2004.000000\n",
      "CHN    1915.933333\n",
      "EU      891.200000\n",
      "MNE     880.800000\n",
      "SVN     869.833333\n",
      "LTU     855.440000\n",
      "TON     851.533333\n",
      "PLW     847.888889\n",
      "CHE     831.214286\n",
      "UZB     827.350000\n",
      "LIE     803.346154\n",
      "BRN     596.387097\n",
      "Name: nb_mots, dtype: float64\n",
      "\n",
      "Pays dont la phrase moyenne est la plus et la moins longue\n",
      "country\n",
      "PRK    16.730872\n",
      "BHR    16.676472\n",
      "VAT    16.392160\n",
      "VNM    16.161725\n",
      "ARE    16.137100\n",
      "MAR    16.114019\n",
      "TUN    15.987226\n",
      "MNE    15.973094\n",
      "AGO    15.747415\n",
      "GNQ    15.717641\n",
      "NLD    10.397007\n",
      "ISR    10.228552\n",
      "NOR    10.190570\n",
      "EU     10.189172\n",
      "GBR    10.161099\n",
      "CHE    10.142022\n",
      "BRN     9.926188\n",
      "FIN     9.885724\n",
      "DEU     9.766697\n",
      "SWE     9.736479\n",
      "Name: long_phrases, dtype: float64\n",
      "\n"
     ]
    }
   ],
   "source": [
    "a = data['nb_mots'].groupby(data['country']).mean()\n",
    "print(\"Pays dont les discours comprennent en moyenne le plus et le moins de mots\")\n",
    "print(pd.concat([a.sort_values(ascending=False)[:10], a.sort_values(ascending=False)[-10:]], axis=0))\n",
    "print()\n",
    "\n",
    "print(\"Pays dont la phrase moyenne est la plus et la moins longue\")\n",
    "a = data['long_phrases'].groupby(data['country']).mean()\n",
    "print(pd.concat([a.sort_values(ascending=False)[:10], a.sort_values(ascending=False)[-10:]], axis=0))\n",
    "print()"
   ]
  },
  {
   "cell_type": "markdown",
   "metadata": {},
   "source": [
    "On observe ainsi que la longueur moyenne d'une phrase diffère relativement bien selon les pays, ainsi que la longueur du discours (nombre de mots)."
   ]
  },
  {
   "cell_type": "code",
   "execution_count": 12,
   "metadata": {},
   "outputs": [
    {
     "name": "stdout",
     "output_type": "stream",
     "text": [
      "count     7507.000000\n",
      "mean     17967.281604\n",
      "std       7860.038463\n",
      "min       2362.000000\n",
      "25%      12077.000000\n",
      "50%      16424.000000\n",
      "75%      22479.500000\n",
      "max      72041.000000\n",
      "Name: nb_char, dtype: float64\n",
      "count    7507.000000\n",
      "mean     1531.117091\n",
      "std       664.527140\n",
      "min       198.000000\n",
      "25%      1035.000000\n",
      "50%      1399.000000\n",
      "75%      1911.000000\n",
      "max      6019.000000\n",
      "Name: nb_mots, dtype: float64\n",
      "count    7507.000000\n",
      "mean      119.774477\n",
      "std        59.170509\n",
      "min        23.000000\n",
      "25%        78.000000\n",
      "50%       106.000000\n",
      "75%       149.000000\n",
      "max       591.000000\n",
      "Name: nb_phrases, dtype: float64\n",
      "count    7507.000000\n",
      "mean       11.722654\n",
      "std         0.299497\n",
      "min        10.360563\n",
      "25%        11.539012\n",
      "50%        11.737028\n",
      "75%        11.922650\n",
      "max        12.864909\n",
      "Name: long_mots, dtype: float64\n",
      "count    7507.000000\n",
      "mean       13.257359\n",
      "std         2.518202\n",
      "min         6.896552\n",
      "25%        11.444444\n",
      "50%        13.006135\n",
      "75%        14.831472\n",
      "max        26.835294\n",
      "Name: long_phrases, dtype: float64\n"
     ]
    }
   ],
   "source": [
    "print(data['nb_char'].describe())\n",
    "print(data['nb_mots'].describe())\n",
    "print(data['nb_phrases'].describe())\n",
    "print(data['long_mots'].describe())\n",
    "print(data['long_phrases'].describe())"
   ]
  },
  {
   "cell_type": "markdown",
   "metadata": {},
   "source": [
    "On pourra utiliser comme features la longueur des discours (nb_mots ou nb_charactère) et la longueur des phrases."
   ]
  },
  {
   "cell_type": "markdown",
   "metadata": {},
   "source": [
    "## Richesse et diversité du langage"
   ]
  },
  {
   "cell_type": "markdown",
   "metadata": {},
   "source": [
    "A présent, on cherchera si beaucoup de mots différents sont employés dans les discours ou non, selon les Pays, c'est-à-dire s'il est propre à certains pays de recourir à davantage de vocabulaire que d'autres."
   ]
  },
  {
   "cell_type": "markdown",
   "metadata": {},
   "source": [
    "### Création des variables"
   ]
  },
  {
   "cell_type": "markdown",
   "metadata": {},
   "source": [
    "Pour juger de la diversité du langage, on va utiliser stems : on prend la racine des mots, pour pouvoir les comparer entre eux (qu'ils soient au pluriel ou non, sous une certaine forme ou non). On construit les variables de racine de mot à partir des variables \"clean\", car on exclut les mots de liaison, qui ne témoignent pas de la richesse d'un langage."
   ]
  },
  {
   "cell_type": "code",
   "execution_count": 9,
   "metadata": {
    "collapsed": true
   },
   "outputs": [],
   "source": [
    "stemmer=nltk.stem.PorterStemmer()\n",
    "data['stems'] = [[format(stemmer.stem(token)) for token in speech] for speech in data['clean']]"
   ]
  },
  {
   "cell_type": "markdown",
   "metadata": {},
   "source": [
    "Puisqu'il y a beaucoup de nombres parmi les mots (et même dans les racines), on supprime les nombres."
   ]
  },
  {
   "cell_type": "code",
   "execution_count": 10,
   "metadata": {
    "collapsed": true
   },
   "outputs": [],
   "source": [
    "data['stems'] = data['stems'].apply(lambda x: [w for w in x if not w.isdigit()])"
   ]
  },
  {
   "cell_type": "markdown",
   "metadata": {},
   "source": [
    "On calcule enfin la richesse lexicale comme le rapport du nombre de mots uniques par discours par le nombre total de mots (les mots sont les racines des mots)."
   ]
  },
  {
   "cell_type": "code",
   "execution_count": 15,
   "metadata": {
    "collapsed": true
   },
   "outputs": [],
   "source": [
    "def rich_voc(text):\n",
    "    return len(set(text)) / len(text)"
   ]
  },
  {
   "cell_type": "code",
   "execution_count": 16,
   "metadata": {},
   "outputs": [
    {
     "name": "stderr",
     "output_type": "stream",
     "text": [
      "C:\\Users\\Naïla\\Anaconda3\\lib\\site-packages\\ipykernel_launcher.py:3: DeprecationWarning: \n",
      ".ix is deprecated. Please use\n",
      ".loc for label based indexing or\n",
      ".iloc for positional indexing\n",
      "\n",
      "See the documentation here:\n",
      "http://pandas.pydata.org/pandas-docs/stable/indexing.html#ix-indexer-is-deprecated\n",
      "  This is separate from the ipykernel package so we can avoid doing imports until\n"
     ]
    }
   ],
   "source": [
    "data[\"richesse_voc\"]=0\n",
    "for i in range (len(data)) :\n",
    "    data.ix[i, \"richesse_voc\"]=rich_voc(data.ix[i, \"stems\"])"
   ]
  },
  {
   "cell_type": "markdown",
   "metadata": {},
   "source": [
    "### Résultats pas probants"
   ]
  },
  {
   "cell_type": "code",
   "execution_count": 17,
   "metadata": {},
   "outputs": [
    {
     "data": {
      "text/plain": [
       "country\n",
       "AFG     0.477972\n",
       "AGO     0.483057\n",
       "ALB     0.434654\n",
       "AND     0.539584\n",
       "ARE     0.474855\n",
       "ARG     0.471981\n",
       "ARM     0.556558\n",
       "ATG     0.509836\n",
       "AUS     0.435122\n",
       "AUT     0.473663\n",
       "AZE     0.499643\n",
       "BDI     0.472576\n",
       "BEL     0.482897\n",
       "BEN     0.473453\n",
       "BFA     0.532548\n",
       "BGD     0.501927\n",
       "BGR     0.468439\n",
       "BHR     0.445505\n",
       "BHS     0.498236\n",
       "BIH     0.518341\n",
       "BLR     0.450883\n",
       "BLZ     0.541358\n",
       "BOL     0.482723\n",
       "BRA     0.501468\n",
       "BRB     0.497333\n",
       "BRN     0.579686\n",
       "BTN     0.550499\n",
       "BWA     0.504144\n",
       "CAF     0.496729\n",
       "CAN     0.471663\n",
       "          ...   \n",
       "SYR     0.467605\n",
       "TCD     0.505743\n",
       "TGO     0.487498\n",
       "THA     0.465370\n",
       "TJK     0.467295\n",
       "TKM     0.477988\n",
       "TLS     0.515150\n",
       "TON     0.536762\n",
       "TTO     0.461865\n",
       "TUN     0.450991\n",
       "TUR     0.473079\n",
       "TUV     0.492028\n",
       "TZA     0.457466\n",
       "UGA     0.484450\n",
       "UKR     0.455485\n",
       "URY     0.477731\n",
       "USA     0.432939\n",
       "UZB     0.547033\n",
       "VAT     0.521398\n",
       "VCT     0.550948\n",
       "VEN     0.485016\n",
       "VNM     0.449490\n",
       "VUT     0.492858\n",
       "WSM     0.520228\n",
       "YDYE    0.447169\n",
       "YEM     0.462285\n",
       "YUG     0.462207\n",
       "ZAF     0.493444\n",
       "ZMB     0.465024\n",
       "ZWE     0.507055\n",
       "Name: richesse_voc, Length: 199, dtype: float64"
      ]
     },
     "execution_count": 17,
     "metadata": {},
     "output_type": "execute_result"
    }
   ],
   "source": [
    "data['richesse_voc'].groupby(data['country']).mean()"
   ]
  },
  {
   "cell_type": "code",
   "execution_count": 18,
   "metadata": {},
   "outputs": [
    {
     "data": {
      "text/plain": [
       "count    7507.000000\n",
       "mean        0.485536\n",
       "std         0.069847\n",
       "min         0.262552\n",
       "25%         0.436968\n",
       "50%         0.485742\n",
       "75%         0.533172\n",
       "max         0.812298\n",
       "Name: richesse_voc, dtype: float64"
      ]
     },
     "execution_count": 18,
     "metadata": {},
     "output_type": "execute_result"
    }
   ],
   "source": [
    "data.richesse_voc.describe() #c'est peu probant"
   ]
  },
  {
   "cell_type": "code",
   "execution_count": 19,
   "metadata": {},
   "outputs": [
    {
     "data": {
      "text/html": [
       "<div>\n",
       "<style>\n",
       "    .dataframe thead tr:only-child th {\n",
       "        text-align: right;\n",
       "    }\n",
       "\n",
       "    .dataframe thead th {\n",
       "        text-align: left;\n",
       "    }\n",
       "\n",
       "    .dataframe tbody tr th {\n",
       "        vertical-align: top;\n",
       "    }\n",
       "</style>\n",
       "<table border=\"1\" class=\"dataframe\">\n",
       "  <thead>\n",
       "    <tr style=\"text-align: right;\">\n",
       "      <th></th>\n",
       "      <th>session</th>\n",
       "      <th>year</th>\n",
       "      <th>nb_char</th>\n",
       "      <th>nb_mots</th>\n",
       "      <th>nb_phrases</th>\n",
       "      <th>long_mots</th>\n",
       "      <th>long_phrases</th>\n",
       "      <th>richesse_voc</th>\n",
       "    </tr>\n",
       "    <tr>\n",
       "      <th>country</th>\n",
       "      <th></th>\n",
       "      <th></th>\n",
       "      <th></th>\n",
       "      <th></th>\n",
       "      <th></th>\n",
       "      <th></th>\n",
       "      <th></th>\n",
       "      <th></th>\n",
       "    </tr>\n",
       "  </thead>\n",
       "  <tbody>\n",
       "    <tr>\n",
       "      <th>AFG</th>\n",
       "      <td>48.000000</td>\n",
       "      <td>1993.000000</td>\n",
       "      <td>19236.377778</td>\n",
       "      <td>1640.311111</td>\n",
       "      <td>120.955556</td>\n",
       "      <td>11.746851</td>\n",
       "      <td>13.835943</td>\n",
       "      <td>0.477972</td>\n",
       "    </tr>\n",
       "    <tr>\n",
       "      <th>AGO</th>\n",
       "      <td>51.447368</td>\n",
       "      <td>1996.447368</td>\n",
       "      <td>16864.763158</td>\n",
       "      <td>1423.236842</td>\n",
       "      <td>91.263158</td>\n",
       "      <td>11.866168</td>\n",
       "      <td>15.747415</td>\n",
       "      <td>0.483057</td>\n",
       "    </tr>\n",
       "    <tr>\n",
       "      <th>ALB</th>\n",
       "      <td>47.500000</td>\n",
       "      <td>1992.500000</td>\n",
       "      <td>21851.652174</td>\n",
       "      <td>1825.934783</td>\n",
       "      <td>128.500000</td>\n",
       "      <td>11.924952</td>\n",
       "      <td>14.327887</td>\n",
       "      <td>0.434654</td>\n",
       "    </tr>\n",
       "    <tr>\n",
       "      <th>AND</th>\n",
       "      <td>59.500000</td>\n",
       "      <td>2004.500000</td>\n",
       "      <td>12999.636364</td>\n",
       "      <td>1104.272727</td>\n",
       "      <td>87.909091</td>\n",
       "      <td>11.768000</td>\n",
       "      <td>12.684431</td>\n",
       "      <td>0.539584</td>\n",
       "    </tr>\n",
       "    <tr>\n",
       "      <th>ARE</th>\n",
       "      <td>48.500000</td>\n",
       "      <td>1993.500000</td>\n",
       "      <td>14796.159091</td>\n",
       "      <td>1249.181818</td>\n",
       "      <td>83.272727</td>\n",
       "      <td>11.828606</td>\n",
       "      <td>16.137100</td>\n",
       "      <td>0.474855</td>\n",
       "    </tr>\n",
       "    <tr>\n",
       "      <th>ARG</th>\n",
       "      <td>47.500000</td>\n",
       "      <td>1992.500000</td>\n",
       "      <td>21165.978261</td>\n",
       "      <td>1760.891304</td>\n",
       "      <td>136.760870</td>\n",
       "      <td>12.020431</td>\n",
       "      <td>13.305347</td>\n",
       "      <td>0.471981</td>\n",
       "    </tr>\n",
       "    <tr>\n",
       "      <th>ARM</th>\n",
       "      <td>58.500000</td>\n",
       "      <td>2003.500000</td>\n",
       "      <td>11009.083333</td>\n",
       "      <td>933.291667</td>\n",
       "      <td>68.291667</td>\n",
       "      <td>11.822994</td>\n",
       "      <td>13.768230</td>\n",
       "      <td>0.556558</td>\n",
       "    </tr>\n",
       "    <tr>\n",
       "      <th>ATG</th>\n",
       "      <td>54.281250</td>\n",
       "      <td>1999.281250</td>\n",
       "      <td>17550.156250</td>\n",
       "      <td>1511.843750</td>\n",
       "      <td>113.406250</td>\n",
       "      <td>11.638739</td>\n",
       "      <td>13.411718</td>\n",
       "      <td>0.509836</td>\n",
       "    </tr>\n",
       "    <tr>\n",
       "      <th>AUS</th>\n",
       "      <td>47.500000</td>\n",
       "      <td>1992.500000</td>\n",
       "      <td>21722.804348</td>\n",
       "      <td>1869.043478</td>\n",
       "      <td>157.782609</td>\n",
       "      <td>11.560512</td>\n",
       "      <td>12.121347</td>\n",
       "      <td>0.435122</td>\n",
       "    </tr>\n",
       "    <tr>\n",
       "      <th>AUT</th>\n",
       "      <td>47.500000</td>\n",
       "      <td>1992.500000</td>\n",
       "      <td>17722.521739</td>\n",
       "      <td>1546.608696</td>\n",
       "      <td>132.239130</td>\n",
       "      <td>11.426478</td>\n",
       "      <td>11.875951</td>\n",
       "      <td>0.473663</td>\n",
       "    </tr>\n",
       "    <tr>\n",
       "      <th>AZE</th>\n",
       "      <td>58.500000</td>\n",
       "      <td>2003.500000</td>\n",
       "      <td>14107.958333</td>\n",
       "      <td>1191.416667</td>\n",
       "      <td>79.833333</td>\n",
       "      <td>11.821176</td>\n",
       "      <td>15.067287</td>\n",
       "      <td>0.499643</td>\n",
       "    </tr>\n",
       "    <tr>\n",
       "      <th>BDI</th>\n",
       "      <td>48.000000</td>\n",
       "      <td>1993.000000</td>\n",
       "      <td>21568.111111</td>\n",
       "      <td>1826.266667</td>\n",
       "      <td>144.977778</td>\n",
       "      <td>11.798976</td>\n",
       "      <td>13.139627</td>\n",
       "      <td>0.472576</td>\n",
       "    </tr>\n",
       "    <tr>\n",
       "      <th>BEL</th>\n",
       "      <td>47.500000</td>\n",
       "      <td>1992.500000</td>\n",
       "      <td>18706.043478</td>\n",
       "      <td>1586.673913</td>\n",
       "      <td>145.304348</td>\n",
       "      <td>11.800708</td>\n",
       "      <td>11.000790</td>\n",
       "      <td>0.482897</td>\n",
       "    </tr>\n",
       "    <tr>\n",
       "      <th>BEN</th>\n",
       "      <td>48.159091</td>\n",
       "      <td>1993.159091</td>\n",
       "      <td>20941.886364</td>\n",
       "      <td>1775.250000</td>\n",
       "      <td>120.659091</td>\n",
       "      <td>11.782544</td>\n",
       "      <td>15.179560</td>\n",
       "      <td>0.473453</td>\n",
       "    </tr>\n",
       "    <tr>\n",
       "      <th>BFA</th>\n",
       "      <td>48.000000</td>\n",
       "      <td>1993.000000</td>\n",
       "      <td>17185.222222</td>\n",
       "      <td>1462.488889</td>\n",
       "      <td>115.733333</td>\n",
       "      <td>11.742111</td>\n",
       "      <td>13.293900</td>\n",
       "      <td>0.532548</td>\n",
       "    </tr>\n",
       "    <tr>\n",
       "      <th>BGD</th>\n",
       "      <td>49.500000</td>\n",
       "      <td>1994.500000</td>\n",
       "      <td>18639.523810</td>\n",
       "      <td>1629.857143</td>\n",
       "      <td>135.071429</td>\n",
       "      <td>11.423135</td>\n",
       "      <td>11.996265</td>\n",
       "      <td>0.501927</td>\n",
       "    </tr>\n",
       "    <tr>\n",
       "      <th>BGR</th>\n",
       "      <td>48.000000</td>\n",
       "      <td>1993.000000</td>\n",
       "      <td>17019.222222</td>\n",
       "      <td>1449.866667</td>\n",
       "      <td>114.577778</td>\n",
       "      <td>11.710983</td>\n",
       "      <td>12.728879</td>\n",
       "      <td>0.468439</td>\n",
       "    </tr>\n",
       "    <tr>\n",
       "      <th>BHR</th>\n",
       "      <td>48.500000</td>\n",
       "      <td>1993.500000</td>\n",
       "      <td>19310.795455</td>\n",
       "      <td>1634.568182</td>\n",
       "      <td>102.522727</td>\n",
       "      <td>11.791775</td>\n",
       "      <td>16.676472</td>\n",
       "      <td>0.445505</td>\n",
       "    </tr>\n",
       "    <tr>\n",
       "      <th>BHS</th>\n",
       "      <td>51.837838</td>\n",
       "      <td>1996.837838</td>\n",
       "      <td>16355.540541</td>\n",
       "      <td>1386.513514</td>\n",
       "      <td>102.864865</td>\n",
       "      <td>11.788758</td>\n",
       "      <td>13.668215</td>\n",
       "      <td>0.498236</td>\n",
       "    </tr>\n",
       "    <tr>\n",
       "      <th>BIH</th>\n",
       "      <td>58.500000</td>\n",
       "      <td>2003.500000</td>\n",
       "      <td>12570.250000</td>\n",
       "      <td>1056.083333</td>\n",
       "      <td>81.500000</td>\n",
       "      <td>11.911280</td>\n",
       "      <td>13.100593</td>\n",
       "      <td>0.518341</td>\n",
       "    </tr>\n",
       "    <tr>\n",
       "      <th>BLR</th>\n",
       "      <td>47.500000</td>\n",
       "      <td>1992.500000</td>\n",
       "      <td>20599.065217</td>\n",
       "      <td>1749.500000</td>\n",
       "      <td>126.826087</td>\n",
       "      <td>11.768591</td>\n",
       "      <td>13.606959</td>\n",
       "      <td>0.450883</td>\n",
       "    </tr>\n",
       "    <tr>\n",
       "      <th>BLZ</th>\n",
       "      <td>53.500000</td>\n",
       "      <td>1998.500000</td>\n",
       "      <td>14491.617647</td>\n",
       "      <td>1236.205882</td>\n",
       "      <td>97.029412</td>\n",
       "      <td>11.713907</td>\n",
       "      <td>12.762855</td>\n",
       "      <td>0.541358</td>\n",
       "    </tr>\n",
       "    <tr>\n",
       "      <th>BOL</th>\n",
       "      <td>47.500000</td>\n",
       "      <td>1992.500000</td>\n",
       "      <td>19478.478261</td>\n",
       "      <td>1636.739130</td>\n",
       "      <td>141.282609</td>\n",
       "      <td>11.902147</td>\n",
       "      <td>12.332823</td>\n",
       "      <td>0.482723</td>\n",
       "    </tr>\n",
       "    <tr>\n",
       "      <th>BRA</th>\n",
       "      <td>47.500000</td>\n",
       "      <td>1992.500000</td>\n",
       "      <td>19428.043478</td>\n",
       "      <td>1637.586957</td>\n",
       "      <td>134.804348</td>\n",
       "      <td>11.833047</td>\n",
       "      <td>12.180408</td>\n",
       "      <td>0.501468</td>\n",
       "    </tr>\n",
       "    <tr>\n",
       "      <th>BRB</th>\n",
       "      <td>48.976744</td>\n",
       "      <td>1993.976744</td>\n",
       "      <td>18100.581395</td>\n",
       "      <td>1547.697674</td>\n",
       "      <td>118.860465</td>\n",
       "      <td>11.702146</td>\n",
       "      <td>13.514119</td>\n",
       "      <td>0.497333</td>\n",
       "    </tr>\n",
       "    <tr>\n",
       "      <th>BRN</th>\n",
       "      <td>55.000000</td>\n",
       "      <td>2000.000000</td>\n",
       "      <td>6962.516129</td>\n",
       "      <td>596.387097</td>\n",
       "      <td>60.516129</td>\n",
       "      <td>11.702359</td>\n",
       "      <td>9.926188</td>\n",
       "      <td>0.579686</td>\n",
       "    </tr>\n",
       "    <tr>\n",
       "      <th>BTN</th>\n",
       "      <td>48.658537</td>\n",
       "      <td>1993.658537</td>\n",
       "      <td>11797.195122</td>\n",
       "      <td>1020.853659</td>\n",
       "      <td>86.926829</td>\n",
       "      <td>11.585220</td>\n",
       "      <td>12.017320</td>\n",
       "      <td>0.550499</td>\n",
       "    </tr>\n",
       "    <tr>\n",
       "      <th>BWA</th>\n",
       "      <td>49.475000</td>\n",
       "      <td>1994.475000</td>\n",
       "      <td>18168.200000</td>\n",
       "      <td>1553.625000</td>\n",
       "      <td>129.025000</td>\n",
       "      <td>11.715172</td>\n",
       "      <td>12.279554</td>\n",
       "      <td>0.504144</td>\n",
       "    </tr>\n",
       "    <tr>\n",
       "      <th>CAF</th>\n",
       "      <td>47.976190</td>\n",
       "      <td>1992.976190</td>\n",
       "      <td>16746.785714</td>\n",
       "      <td>1429.357143</td>\n",
       "      <td>105.857143</td>\n",
       "      <td>11.742380</td>\n",
       "      <td>14.596227</td>\n",
       "      <td>0.496729</td>\n",
       "    </tr>\n",
       "    <tr>\n",
       "      <th>CAN</th>\n",
       "      <td>47.500000</td>\n",
       "      <td>1992.500000</td>\n",
       "      <td>18752.043478</td>\n",
       "      <td>1628.717391</td>\n",
       "      <td>151.369565</td>\n",
       "      <td>11.529174</td>\n",
       "      <td>10.969534</td>\n",
       "      <td>0.471663</td>\n",
       "    </tr>\n",
       "    <tr>\n",
       "      <th>...</th>\n",
       "      <td>...</td>\n",
       "      <td>...</td>\n",
       "      <td>...</td>\n",
       "      <td>...</td>\n",
       "      <td>...</td>\n",
       "      <td>...</td>\n",
       "      <td>...</td>\n",
       "      <td>...</td>\n",
       "    </tr>\n",
       "    <tr>\n",
       "      <th>SYR</th>\n",
       "      <td>47.500000</td>\n",
       "      <td>1992.500000</td>\n",
       "      <td>18354.652174</td>\n",
       "      <td>1558.847826</td>\n",
       "      <td>111.065217</td>\n",
       "      <td>11.794876</td>\n",
       "      <td>14.581434</td>\n",
       "      <td>0.467605</td>\n",
       "    </tr>\n",
       "    <tr>\n",
       "      <th>TCD</th>\n",
       "      <td>48.454545</td>\n",
       "      <td>1993.454545</td>\n",
       "      <td>17574.204545</td>\n",
       "      <td>1494.250000</td>\n",
       "      <td>114.431818</td>\n",
       "      <td>11.770425</td>\n",
       "      <td>13.416095</td>\n",
       "      <td>0.505743</td>\n",
       "    </tr>\n",
       "    <tr>\n",
       "      <th>TGO</th>\n",
       "      <td>47.933333</td>\n",
       "      <td>1992.933333</td>\n",
       "      <td>18818.400000</td>\n",
       "      <td>1595.755556</td>\n",
       "      <td>111.355556</td>\n",
       "      <td>11.785871</td>\n",
       "      <td>14.827530</td>\n",
       "      <td>0.487498</td>\n",
       "    </tr>\n",
       "    <tr>\n",
       "      <th>THA</th>\n",
       "      <td>47.886364</td>\n",
       "      <td>1992.886364</td>\n",
       "      <td>18085.272727</td>\n",
       "      <td>1576.386364</td>\n",
       "      <td>125.431818</td>\n",
       "      <td>11.451942</td>\n",
       "      <td>12.523349</td>\n",
       "      <td>0.465370</td>\n",
       "    </tr>\n",
       "    <tr>\n",
       "      <th>TJK</th>\n",
       "      <td>58.500000</td>\n",
       "      <td>2003.500000</td>\n",
       "      <td>14514.750000</td>\n",
       "      <td>1238.125000</td>\n",
       "      <td>85.291667</td>\n",
       "      <td>11.729288</td>\n",
       "      <td>14.704798</td>\n",
       "      <td>0.467295</td>\n",
       "    </tr>\n",
       "    <tr>\n",
       "      <th>TKM</th>\n",
       "      <td>59.250000</td>\n",
       "      <td>2004.250000</td>\n",
       "      <td>12416.950000</td>\n",
       "      <td>1041.350000</td>\n",
       "      <td>72.300000</td>\n",
       "      <td>11.910216</td>\n",
       "      <td>14.561182</td>\n",
       "      <td>0.477988</td>\n",
       "    </tr>\n",
       "    <tr>\n",
       "      <th>TLS</th>\n",
       "      <td>64.000000</td>\n",
       "      <td>2009.000000</td>\n",
       "      <td>14784.076923</td>\n",
       "      <td>1281.769231</td>\n",
       "      <td>97.538462</td>\n",
       "      <td>11.511900</td>\n",
       "      <td>13.244891</td>\n",
       "      <td>0.515150</td>\n",
       "    </tr>\n",
       "    <tr>\n",
       "      <th>TON</th>\n",
       "      <td>63.000000</td>\n",
       "      <td>2008.000000</td>\n",
       "      <td>9667.200000</td>\n",
       "      <td>851.533333</td>\n",
       "      <td>54.933333</td>\n",
       "      <td>11.362539</td>\n",
       "      <td>15.618782</td>\n",
       "      <td>0.536762</td>\n",
       "    </tr>\n",
       "    <tr>\n",
       "      <th>TTO</th>\n",
       "      <td>50.179487</td>\n",
       "      <td>1995.179487</td>\n",
       "      <td>19472.974359</td>\n",
       "      <td>1653.615385</td>\n",
       "      <td>115.410256</td>\n",
       "      <td>11.762660</td>\n",
       "      <td>14.613165</td>\n",
       "      <td>0.461865</td>\n",
       "    </tr>\n",
       "    <tr>\n",
       "      <th>TUN</th>\n",
       "      <td>47.500000</td>\n",
       "      <td>1992.500000</td>\n",
       "      <td>20471.804348</td>\n",
       "      <td>1708.478261</td>\n",
       "      <td>114.239130</td>\n",
       "      <td>11.970582</td>\n",
       "      <td>15.987226</td>\n",
       "      <td>0.450991</td>\n",
       "    </tr>\n",
       "    <tr>\n",
       "      <th>TUR</th>\n",
       "      <td>47.500000</td>\n",
       "      <td>1992.500000</td>\n",
       "      <td>19962.478261</td>\n",
       "      <td>1709.673913</td>\n",
       "      <td>155.043478</td>\n",
       "      <td>11.659951</td>\n",
       "      <td>11.169673</td>\n",
       "      <td>0.473079</td>\n",
       "    </tr>\n",
       "    <tr>\n",
       "      <th>TUV</th>\n",
       "      <td>63.000000</td>\n",
       "      <td>2008.000000</td>\n",
       "      <td>12432.066667</td>\n",
       "      <td>1096.733333</td>\n",
       "      <td>77.800000</td>\n",
       "      <td>11.346308</td>\n",
       "      <td>14.236592</td>\n",
       "      <td>0.492028</td>\n",
       "    </tr>\n",
       "    <tr>\n",
       "      <th>TZA</th>\n",
       "      <td>48.000000</td>\n",
       "      <td>1993.000000</td>\n",
       "      <td>21219.066667</td>\n",
       "      <td>1804.200000</td>\n",
       "      <td>151.177778</td>\n",
       "      <td>11.727218</td>\n",
       "      <td>11.950235</td>\n",
       "      <td>0.457466</td>\n",
       "    </tr>\n",
       "    <tr>\n",
       "      <th>UGA</th>\n",
       "      <td>48.785714</td>\n",
       "      <td>1993.785714</td>\n",
       "      <td>18615.214286</td>\n",
       "      <td>1594.547619</td>\n",
       "      <td>136.785714</td>\n",
       "      <td>11.634352</td>\n",
       "      <td>11.966702</td>\n",
       "      <td>0.484450</td>\n",
       "    </tr>\n",
       "    <tr>\n",
       "      <th>UKR</th>\n",
       "      <td>47.500000</td>\n",
       "      <td>1992.500000</td>\n",
       "      <td>20155.652174</td>\n",
       "      <td>1732.304348</td>\n",
       "      <td>131.500000</td>\n",
       "      <td>11.629796</td>\n",
       "      <td>13.135167</td>\n",
       "      <td>0.455485</td>\n",
       "    </tr>\n",
       "    <tr>\n",
       "      <th>URY</th>\n",
       "      <td>47.500000</td>\n",
       "      <td>1992.500000</td>\n",
       "      <td>20502.673913</td>\n",
       "      <td>1706.543478</td>\n",
       "      <td>129.326087</td>\n",
       "      <td>12.025434</td>\n",
       "      <td>13.867857</td>\n",
       "      <td>0.477731</td>\n",
       "    </tr>\n",
       "    <tr>\n",
       "      <th>USA</th>\n",
       "      <td>47.500000</td>\n",
       "      <td>1992.500000</td>\n",
       "      <td>23190.391304</td>\n",
       "      <td>2053.826087</td>\n",
       "      <td>202.695652</td>\n",
       "      <td>11.269735</td>\n",
       "      <td>10.477774</td>\n",
       "      <td>0.432939</td>\n",
       "    </tr>\n",
       "    <tr>\n",
       "      <th>UZB</th>\n",
       "      <td>58.200000</td>\n",
       "      <td>2003.200000</td>\n",
       "      <td>9649.450000</td>\n",
       "      <td>827.350000</td>\n",
       "      <td>59.500000</td>\n",
       "      <td>11.663282</td>\n",
       "      <td>14.406369</td>\n",
       "      <td>0.547033</td>\n",
       "    </tr>\n",
       "    <tr>\n",
       "      <th>VAT</th>\n",
       "      <td>62.153846</td>\n",
       "      <td>2007.153846</td>\n",
       "      <td>14183.384615</td>\n",
       "      <td>1203.769231</td>\n",
       "      <td>75.153846</td>\n",
       "      <td>11.800425</td>\n",
       "      <td>16.392160</td>\n",
       "      <td>0.521398</td>\n",
       "    </tr>\n",
       "    <tr>\n",
       "      <th>VCT</th>\n",
       "      <td>53.264706</td>\n",
       "      <td>1998.264706</td>\n",
       "      <td>16096.823529</td>\n",
       "      <td>1371.382353</td>\n",
       "      <td>105.705882</td>\n",
       "      <td>11.701372</td>\n",
       "      <td>13.062543</td>\n",
       "      <td>0.550948</td>\n",
       "    </tr>\n",
       "    <tr>\n",
       "      <th>VEN</th>\n",
       "      <td>47.500000</td>\n",
       "      <td>1992.500000</td>\n",
       "      <td>19965.978261</td>\n",
       "      <td>1691.413043</td>\n",
       "      <td>143.108696</td>\n",
       "      <td>11.790787</td>\n",
       "      <td>12.697979</td>\n",
       "      <td>0.485016</td>\n",
       "    </tr>\n",
       "    <tr>\n",
       "      <th>VNM</th>\n",
       "      <td>51.500000</td>\n",
       "      <td>1996.500000</td>\n",
       "      <td>17136.868421</td>\n",
       "      <td>1499.105263</td>\n",
       "      <td>96.500000</td>\n",
       "      <td>11.432908</td>\n",
       "      <td>16.161725</td>\n",
       "      <td>0.449490</td>\n",
       "    </tr>\n",
       "    <tr>\n",
       "      <th>VUT</th>\n",
       "      <td>54.500000</td>\n",
       "      <td>1999.500000</td>\n",
       "      <td>17001.800000</td>\n",
       "      <td>1457.766667</td>\n",
       "      <td>121.600000</td>\n",
       "      <td>11.669102</td>\n",
       "      <td>13.069028</td>\n",
       "      <td>0.492858</td>\n",
       "    </tr>\n",
       "    <tr>\n",
       "      <th>WSM</th>\n",
       "      <td>52.612903</td>\n",
       "      <td>1997.612903</td>\n",
       "      <td>14072.709677</td>\n",
       "      <td>1207.290323</td>\n",
       "      <td>99.419355</td>\n",
       "      <td>11.649608</td>\n",
       "      <td>12.421333</td>\n",
       "      <td>0.520228</td>\n",
       "    </tr>\n",
       "    <tr>\n",
       "      <th>YDYE</th>\n",
       "      <td>35.000000</td>\n",
       "      <td>1980.000000</td>\n",
       "      <td>17229.526316</td>\n",
       "      <td>1451.263158</td>\n",
       "      <td>107.105263</td>\n",
       "      <td>11.854156</td>\n",
       "      <td>13.872401</td>\n",
       "      <td>0.447169</td>\n",
       "    </tr>\n",
       "    <tr>\n",
       "      <th>YEM</th>\n",
       "      <td>48.000000</td>\n",
       "      <td>1993.000000</td>\n",
       "      <td>17816.422222</td>\n",
       "      <td>1499.733333</td>\n",
       "      <td>98.777778</td>\n",
       "      <td>11.861404</td>\n",
       "      <td>15.445295</td>\n",
       "      <td>0.462285</td>\n",
       "    </tr>\n",
       "    <tr>\n",
       "      <th>YUG</th>\n",
       "      <td>46.648649</td>\n",
       "      <td>1991.648649</td>\n",
       "      <td>18488.108108</td>\n",
       "      <td>1543.540541</td>\n",
       "      <td>123.162162</td>\n",
       "      <td>11.975193</td>\n",
       "      <td>12.603515</td>\n",
       "      <td>0.462207</td>\n",
       "    </tr>\n",
       "    <tr>\n",
       "      <th>ZAF</th>\n",
       "      <td>53.851852</td>\n",
       "      <td>1998.851852</td>\n",
       "      <td>14151.111111</td>\n",
       "      <td>1193.111111</td>\n",
       "      <td>93.000000</td>\n",
       "      <td>11.856602</td>\n",
       "      <td>13.328007</td>\n",
       "      <td>0.493444</td>\n",
       "    </tr>\n",
       "    <tr>\n",
       "      <th>ZMB</th>\n",
       "      <td>47.707317</td>\n",
       "      <td>1992.707317</td>\n",
       "      <td>19361.609756</td>\n",
       "      <td>1670.926829</td>\n",
       "      <td>144.170732</td>\n",
       "      <td>11.567165</td>\n",
       "      <td>12.146898</td>\n",
       "      <td>0.465024</td>\n",
       "    </tr>\n",
       "    <tr>\n",
       "      <th>ZWE</th>\n",
       "      <td>52.571429</td>\n",
       "      <td>1997.571429</td>\n",
       "      <td>17405.485714</td>\n",
       "      <td>1483.342857</td>\n",
       "      <td>108.971429</td>\n",
       "      <td>11.742304</td>\n",
       "      <td>13.772690</td>\n",
       "      <td>0.507055</td>\n",
       "    </tr>\n",
       "  </tbody>\n",
       "</table>\n",
       "<p>199 rows × 8 columns</p>\n",
       "</div>"
      ],
      "text/plain": [
       "           session         year       nb_char      nb_mots  nb_phrases  \\\n",
       "country                                                                  \n",
       "AFG      48.000000  1993.000000  19236.377778  1640.311111  120.955556   \n",
       "AGO      51.447368  1996.447368  16864.763158  1423.236842   91.263158   \n",
       "ALB      47.500000  1992.500000  21851.652174  1825.934783  128.500000   \n",
       "AND      59.500000  2004.500000  12999.636364  1104.272727   87.909091   \n",
       "ARE      48.500000  1993.500000  14796.159091  1249.181818   83.272727   \n",
       "ARG      47.500000  1992.500000  21165.978261  1760.891304  136.760870   \n",
       "ARM      58.500000  2003.500000  11009.083333   933.291667   68.291667   \n",
       "ATG      54.281250  1999.281250  17550.156250  1511.843750  113.406250   \n",
       "AUS      47.500000  1992.500000  21722.804348  1869.043478  157.782609   \n",
       "AUT      47.500000  1992.500000  17722.521739  1546.608696  132.239130   \n",
       "AZE      58.500000  2003.500000  14107.958333  1191.416667   79.833333   \n",
       "BDI      48.000000  1993.000000  21568.111111  1826.266667  144.977778   \n",
       "BEL      47.500000  1992.500000  18706.043478  1586.673913  145.304348   \n",
       "BEN      48.159091  1993.159091  20941.886364  1775.250000  120.659091   \n",
       "BFA      48.000000  1993.000000  17185.222222  1462.488889  115.733333   \n",
       "BGD      49.500000  1994.500000  18639.523810  1629.857143  135.071429   \n",
       "BGR      48.000000  1993.000000  17019.222222  1449.866667  114.577778   \n",
       "BHR      48.500000  1993.500000  19310.795455  1634.568182  102.522727   \n",
       "BHS      51.837838  1996.837838  16355.540541  1386.513514  102.864865   \n",
       "BIH      58.500000  2003.500000  12570.250000  1056.083333   81.500000   \n",
       "BLR      47.500000  1992.500000  20599.065217  1749.500000  126.826087   \n",
       "BLZ      53.500000  1998.500000  14491.617647  1236.205882   97.029412   \n",
       "BOL      47.500000  1992.500000  19478.478261  1636.739130  141.282609   \n",
       "BRA      47.500000  1992.500000  19428.043478  1637.586957  134.804348   \n",
       "BRB      48.976744  1993.976744  18100.581395  1547.697674  118.860465   \n",
       "BRN      55.000000  2000.000000   6962.516129   596.387097   60.516129   \n",
       "BTN      48.658537  1993.658537  11797.195122  1020.853659   86.926829   \n",
       "BWA      49.475000  1994.475000  18168.200000  1553.625000  129.025000   \n",
       "CAF      47.976190  1992.976190  16746.785714  1429.357143  105.857143   \n",
       "CAN      47.500000  1992.500000  18752.043478  1628.717391  151.369565   \n",
       "...            ...          ...           ...          ...         ...   \n",
       "SYR      47.500000  1992.500000  18354.652174  1558.847826  111.065217   \n",
       "TCD      48.454545  1993.454545  17574.204545  1494.250000  114.431818   \n",
       "TGO      47.933333  1992.933333  18818.400000  1595.755556  111.355556   \n",
       "THA      47.886364  1992.886364  18085.272727  1576.386364  125.431818   \n",
       "TJK      58.500000  2003.500000  14514.750000  1238.125000   85.291667   \n",
       "TKM      59.250000  2004.250000  12416.950000  1041.350000   72.300000   \n",
       "TLS      64.000000  2009.000000  14784.076923  1281.769231   97.538462   \n",
       "TON      63.000000  2008.000000   9667.200000   851.533333   54.933333   \n",
       "TTO      50.179487  1995.179487  19472.974359  1653.615385  115.410256   \n",
       "TUN      47.500000  1992.500000  20471.804348  1708.478261  114.239130   \n",
       "TUR      47.500000  1992.500000  19962.478261  1709.673913  155.043478   \n",
       "TUV      63.000000  2008.000000  12432.066667  1096.733333   77.800000   \n",
       "TZA      48.000000  1993.000000  21219.066667  1804.200000  151.177778   \n",
       "UGA      48.785714  1993.785714  18615.214286  1594.547619  136.785714   \n",
       "UKR      47.500000  1992.500000  20155.652174  1732.304348  131.500000   \n",
       "URY      47.500000  1992.500000  20502.673913  1706.543478  129.326087   \n",
       "USA      47.500000  1992.500000  23190.391304  2053.826087  202.695652   \n",
       "UZB      58.200000  2003.200000   9649.450000   827.350000   59.500000   \n",
       "VAT      62.153846  2007.153846  14183.384615  1203.769231   75.153846   \n",
       "VCT      53.264706  1998.264706  16096.823529  1371.382353  105.705882   \n",
       "VEN      47.500000  1992.500000  19965.978261  1691.413043  143.108696   \n",
       "VNM      51.500000  1996.500000  17136.868421  1499.105263   96.500000   \n",
       "VUT      54.500000  1999.500000  17001.800000  1457.766667  121.600000   \n",
       "WSM      52.612903  1997.612903  14072.709677  1207.290323   99.419355   \n",
       "YDYE     35.000000  1980.000000  17229.526316  1451.263158  107.105263   \n",
       "YEM      48.000000  1993.000000  17816.422222  1499.733333   98.777778   \n",
       "YUG      46.648649  1991.648649  18488.108108  1543.540541  123.162162   \n",
       "ZAF      53.851852  1998.851852  14151.111111  1193.111111   93.000000   \n",
       "ZMB      47.707317  1992.707317  19361.609756  1670.926829  144.170732   \n",
       "ZWE      52.571429  1997.571429  17405.485714  1483.342857  108.971429   \n",
       "\n",
       "         long_mots  long_phrases  richesse_voc  \n",
       "country                                         \n",
       "AFG      11.746851     13.835943      0.477972  \n",
       "AGO      11.866168     15.747415      0.483057  \n",
       "ALB      11.924952     14.327887      0.434654  \n",
       "AND      11.768000     12.684431      0.539584  \n",
       "ARE      11.828606     16.137100      0.474855  \n",
       "ARG      12.020431     13.305347      0.471981  \n",
       "ARM      11.822994     13.768230      0.556558  \n",
       "ATG      11.638739     13.411718      0.509836  \n",
       "AUS      11.560512     12.121347      0.435122  \n",
       "AUT      11.426478     11.875951      0.473663  \n",
       "AZE      11.821176     15.067287      0.499643  \n",
       "BDI      11.798976     13.139627      0.472576  \n",
       "BEL      11.800708     11.000790      0.482897  \n",
       "BEN      11.782544     15.179560      0.473453  \n",
       "BFA      11.742111     13.293900      0.532548  \n",
       "BGD      11.423135     11.996265      0.501927  \n",
       "BGR      11.710983     12.728879      0.468439  \n",
       "BHR      11.791775     16.676472      0.445505  \n",
       "BHS      11.788758     13.668215      0.498236  \n",
       "BIH      11.911280     13.100593      0.518341  \n",
       "BLR      11.768591     13.606959      0.450883  \n",
       "BLZ      11.713907     12.762855      0.541358  \n",
       "BOL      11.902147     12.332823      0.482723  \n",
       "BRA      11.833047     12.180408      0.501468  \n",
       "BRB      11.702146     13.514119      0.497333  \n",
       "BRN      11.702359      9.926188      0.579686  \n",
       "BTN      11.585220     12.017320      0.550499  \n",
       "BWA      11.715172     12.279554      0.504144  \n",
       "CAF      11.742380     14.596227      0.496729  \n",
       "CAN      11.529174     10.969534      0.471663  \n",
       "...            ...           ...           ...  \n",
       "SYR      11.794876     14.581434      0.467605  \n",
       "TCD      11.770425     13.416095      0.505743  \n",
       "TGO      11.785871     14.827530      0.487498  \n",
       "THA      11.451942     12.523349      0.465370  \n",
       "TJK      11.729288     14.704798      0.467295  \n",
       "TKM      11.910216     14.561182      0.477988  \n",
       "TLS      11.511900     13.244891      0.515150  \n",
       "TON      11.362539     15.618782      0.536762  \n",
       "TTO      11.762660     14.613165      0.461865  \n",
       "TUN      11.970582     15.987226      0.450991  \n",
       "TUR      11.659951     11.169673      0.473079  \n",
       "TUV      11.346308     14.236592      0.492028  \n",
       "TZA      11.727218     11.950235      0.457466  \n",
       "UGA      11.634352     11.966702      0.484450  \n",
       "UKR      11.629796     13.135167      0.455485  \n",
       "URY      12.025434     13.867857      0.477731  \n",
       "USA      11.269735     10.477774      0.432939  \n",
       "UZB      11.663282     14.406369      0.547033  \n",
       "VAT      11.800425     16.392160      0.521398  \n",
       "VCT      11.701372     13.062543      0.550948  \n",
       "VEN      11.790787     12.697979      0.485016  \n",
       "VNM      11.432908     16.161725      0.449490  \n",
       "VUT      11.669102     13.069028      0.492858  \n",
       "WSM      11.649608     12.421333      0.520228  \n",
       "YDYE     11.854156     13.872401      0.447169  \n",
       "YEM      11.861404     15.445295      0.462285  \n",
       "YUG      11.975193     12.603515      0.462207  \n",
       "ZAF      11.856602     13.328007      0.493444  \n",
       "ZMB      11.567165     12.146898      0.465024  \n",
       "ZWE      11.742304     13.772690      0.507055  \n",
       "\n",
       "[199 rows x 8 columns]"
      ]
     },
     "execution_count": 19,
     "metadata": {},
     "output_type": "execute_result"
    }
   ],
   "source": [
    "data.groupby('country').mean()"
   ]
  },
  {
   "cell_type": "markdown",
   "metadata": {},
   "source": [
    "## Mots utilisés dans les différents discours"
   ]
  },
  {
   "cell_type": "markdown",
   "metadata": {},
   "source": [
    "Les pays ont des thématiques propres à eux, et emploient des expressions qui reviennent avec plus ou moins de récurrence dans les discours et différemment selon les pays. On cherche donc à créer des variables permettant de donner le poids des mots ou expressions dans les discours."
   ]
  },
  {
   "cell_type": "markdown",
   "metadata": {
    "collapsed": true
   },
   "source": [
    "On crée des variables TF-IDF donnant le poids de chaque bigram dans les discours :"
   ]
  },
  {
   "cell_type": "code",
   "execution_count": 11,
   "metadata": {},
   "outputs": [
    {
     "name": "stdout",
     "output_type": "stream",
     "text": [
      "Fitting Data...\n",
      "Starting Transform...\n",
      "Label and Incorporate TF-IDF...\n"
     ]
    },
    {
     "data": {
      "text/html": [
       "<div>\n",
       "<style>\n",
       "    .dataframe thead tr:only-child th {\n",
       "        text-align: right;\n",
       "    }\n",
       "\n",
       "    .dataframe thead th {\n",
       "        text-align: left;\n",
       "    }\n",
       "\n",
       "    .dataframe tbody tr th {\n",
       "        vertical-align: top;\n",
       "    }\n",
       "</style>\n",
       "<table border=\"1\" class=\"dataframe\">\n",
       "  <thead>\n",
       "    <tr style=\"text-align: right;\">\n",
       "      <th></th>\n",
       "      <th>session</th>\n",
       "      <th>year</th>\n",
       "      <th>country</th>\n",
       "      <th>text</th>\n",
       "      <th>mots</th>\n",
       "      <th>clean</th>\n",
       "      <th>nb_char</th>\n",
       "      <th>phrases</th>\n",
       "      <th>nb_mots</th>\n",
       "      <th>nb_phrases</th>\n",
       "      <th>...</th>\n",
       "      <th>TF_welcome</th>\n",
       "      <th>TF_west</th>\n",
       "      <th>TF_western</th>\n",
       "      <th>TF_wish</th>\n",
       "      <th>TF_women</th>\n",
       "      <th>TF_work</th>\n",
       "      <th>TF_working</th>\n",
       "      <th>TF_world</th>\n",
       "      <th>TF_year</th>\n",
       "      <th>TF_years</th>\n",
       "    </tr>\n",
       "  </thead>\n",
       "  <tbody>\n",
       "    <tr>\n",
       "      <th>0</th>\n",
       "      <td>44</td>\n",
       "      <td>1989</td>\n",
       "      <td>MDV</td>\n",
       "      <td>﻿it is indeed a pleasure for me and the member...</td>\n",
       "      <td>[it, is, indeed, a, pleasure, for, me, and, th...</td>\n",
       "      <td>[indeed, pleasure, members, delegation, extend...</td>\n",
       "      <td>19023</td>\n",
       "      <td>[﻿it is indeed a pleasure for me and the membe...</td>\n",
       "      <td>1586</td>\n",
       "      <td>125</td>\n",
       "      <td>...</td>\n",
       "      <td>0.170188</td>\n",
       "      <td>0.0</td>\n",
       "      <td>0.0</td>\n",
       "      <td>0.000000</td>\n",
       "      <td>0.0</td>\n",
       "      <td>0.000000</td>\n",
       "      <td>0.0</td>\n",
       "      <td>0.05723</td>\n",
       "      <td>0.052586</td>\n",
       "      <td>0.064732</td>\n",
       "    </tr>\n",
       "    <tr>\n",
       "      <th>1</th>\n",
       "      <td>44</td>\n",
       "      <td>1989</td>\n",
       "      <td>FIN</td>\n",
       "      <td>﻿\\nmay i begin by congratulating you. sir, on ...</td>\n",
       "      <td>[may, i, begin, by, congratulating, you, sir, ...</td>\n",
       "      <td>[may, begin, congratulating, sir, election, pr...</td>\n",
       "      <td>17396</td>\n",
       "      <td>[﻿\\nmay i begin by congratulating you,  sir, o...</td>\n",
       "      <td>1491</td>\n",
       "      <td>130</td>\n",
       "      <td>...</td>\n",
       "      <td>0.047947</td>\n",
       "      <td>0.0</td>\n",
       "      <td>0.0</td>\n",
       "      <td>0.029169</td>\n",
       "      <td>0.0</td>\n",
       "      <td>0.024407</td>\n",
       "      <td>0.0</td>\n",
       "      <td>0.09674</td>\n",
       "      <td>0.148148</td>\n",
       "      <td>0.000000</td>\n",
       "    </tr>\n",
       "  </tbody>\n",
       "</table>\n",
       "<p>2 rows × 513 columns</p>\n",
       "</div>"
      ],
      "text/plain": [
       "   session  year country                                               text  \\\n",
       "0       44  1989     MDV  ﻿it is indeed a pleasure for me and the member...   \n",
       "1       44  1989     FIN  ﻿\\nmay i begin by congratulating you. sir, on ...   \n",
       "\n",
       "                                                mots  \\\n",
       "0  [it, is, indeed, a, pleasure, for, me, and, th...   \n",
       "1  [may, i, begin, by, congratulating, you, sir, ...   \n",
       "\n",
       "                                               clean  nb_char  \\\n",
       "0  [indeed, pleasure, members, delegation, extend...    19023   \n",
       "1  [may, begin, congratulating, sir, election, pr...    17396   \n",
       "\n",
       "                                             phrases  nb_mots  nb_phrases  \\\n",
       "0  [﻿it is indeed a pleasure for me and the membe...     1586         125   \n",
       "1  [﻿\\nmay i begin by congratulating you,  sir, o...     1491         130   \n",
       "\n",
       "     ...     TF_welcome  TF_west TF_western   TF_wish  TF_women   TF_work  \\\n",
       "0    ...       0.170188      0.0        0.0  0.000000       0.0  0.000000   \n",
       "1    ...       0.047947      0.0        0.0  0.029169       0.0  0.024407   \n",
       "\n",
       "   TF_working  TF_world   TF_year  TF_years  \n",
       "0         0.0   0.05723  0.052586  0.064732  \n",
       "1         0.0   0.09674  0.148148  0.000000  \n",
       "\n",
       "[2 rows x 513 columns]"
      ]
     },
     "execution_count": 11,
     "metadata": {},
     "output_type": "execute_result"
    }
   ],
   "source": [
    "from sklearn.feature_extraction.text import TfidfVectorizer\n",
    "\n",
    "# Create 500 TF-IDF features, using 2-gram\n",
    "num_features = 500\n",
    "tfidf = TfidfVectorizer(max_features = num_features, strip_accents='unicode',\n",
    "                        lowercase=True, stop_words='english', ngram_range=(1,2))\n",
    "print('Fitting Data...')\n",
    "tfidf.fit(data['text'].values.astype('U'))\n",
    "\n",
    "print('Starting Transform...')\n",
    "text_tfidf = tfidf.transform(data['text'])\n",
    "\n",
    "print('Label and Incorporate TF-IDF...')\n",
    "data_array = pd.DataFrame(text_tfidf.toarray())\n",
    "feature_names = tfidf.get_feature_names()\n",
    "\n",
    "for i in range(num_features):\n",
    "    feature_names[i] = 'TF_' + feature_names[i]\n",
    "\n",
    "data_array.columns = feature_names\n",
    "data = pd.concat([data, data_array], axis=1)\n",
    "\n",
    "data[:2]"
   ]
  },
  {
   "cell_type": "code",
   "execution_count": 12,
   "metadata": {},
   "outputs": [
    {
     "data": {
      "text/plain": [
       "['nb_char',\n",
       " 'phrases',\n",
       " 'nb_mots',\n",
       " 'nb_phrases',\n",
       " 'long_mots',\n",
       " 'long_phrases',\n",
       " 'stems',\n",
       " 'TF_10',\n",
       " 'TF_able',\n",
       " 'TF_accordance',\n",
       " 'TF_achieve',\n",
       " 'TF_achieved',\n",
       " 'TF_act',\n",
       " 'TF_action',\n",
       " 'TF_actions',\n",
       " 'TF_active',\n",
       " 'TF_activities',\n",
       " 'TF_acts',\n",
       " 'TF_address',\n",
       " 'TF_adopted',\n",
       " 'TF_adoption',\n",
       " 'TF_affairs',\n",
       " 'TF_afghanistan',\n",
       " 'TF_africa',\n",
       " 'TF_african',\n",
       " 'TF_agenda',\n",
       " 'TF_aggression',\n",
       " 'TF_ago',\n",
       " 'TF_agreement',\n",
       " 'TF_agreements',\n",
       " 'TF_aid',\n",
       " 'TF_aimed',\n",
       " 'TF_aligned',\n",
       " 'TF_allow',\n",
       " 'TF_america',\n",
       " 'TF_american',\n",
       " 'TF_apartheid',\n",
       " 'TF_appeal',\n",
       " 'TF_approach',\n",
       " 'TF_appropriate',\n",
       " 'TF_arab',\n",
       " 'TF_area',\n",
       " 'TF_areas',\n",
       " 'TF_armed',\n",
       " 'TF_arms',\n",
       " 'TF_arms race',\n",
       " 'TF_asia',\n",
       " 'TF_aspirations',\n",
       " 'TF_assembly',\n",
       " 'TF_assistance',\n",
       " 'TF_attention',\n",
       " 'TF_aware',\n",
       " 'TF_based',\n",
       " 'TF_basic',\n",
       " 'TF_basis',\n",
       " 'TF_behalf',\n",
       " 'TF_believe',\n",
       " 'TF_best',\n",
       " 'TF_better',\n",
       " 'TF_bring',\n",
       " 'TF_brought',\n",
       " 'TF_build',\n",
       " 'TF_building',\n",
       " 'TF_called',\n",
       " 'TF_capacity',\n",
       " 'TF_case',\n",
       " 'TF_cause',\n",
       " 'TF_cent',\n",
       " 'TF_central',\n",
       " 'TF_century',\n",
       " 'TF_certain',\n",
       " 'TF_challenge',\n",
       " 'TF_challenges',\n",
       " 'TF_change',\n",
       " 'TF_changes',\n",
       " 'TF_charter',\n",
       " 'TF_children',\n",
       " 'TF_china',\n",
       " 'TF_clear',\n",
       " 'TF_clearly',\n",
       " 'TF_climate',\n",
       " 'TF_climate change',\n",
       " 'TF_collective',\n",
       " 'TF_come',\n",
       " 'TF_commitment',\n",
       " 'TF_committed',\n",
       " 'TF_committee',\n",
       " 'TF_common',\n",
       " 'TF_community',\n",
       " 'TF_complete',\n",
       " 'TF_comprehensive',\n",
       " 'TF_concern',\n",
       " 'TF_concerned',\n",
       " 'TF_conclusion',\n",
       " 'TF_conditions',\n",
       " 'TF_conference',\n",
       " 'TF_confidence',\n",
       " 'TF_conflict',\n",
       " 'TF_conflicts',\n",
       " 'TF_congratulate',\n",
       " 'TF_consensus',\n",
       " 'TF_consequences',\n",
       " 'TF_consider',\n",
       " 'TF_constructive',\n",
       " 'TF_context',\n",
       " 'TF_continent',\n",
       " 'TF_continue',\n",
       " 'TF_continued',\n",
       " 'TF_continues',\n",
       " 'TF_contribute',\n",
       " 'TF_contribution',\n",
       " 'TF_control',\n",
       " 'TF_convention',\n",
       " 'TF_convinced',\n",
       " 'TF_cooperation',\n",
       " 'TF_council',\n",
       " 'TF_countries',\n",
       " 'TF_country',\n",
       " 'TF_course',\n",
       " 'TF_create',\n",
       " 'TF_crisis',\n",
       " 'TF_current',\n",
       " 'TF_cyprus',\n",
       " 'TF_day',\n",
       " 'TF_debt',\n",
       " 'TF_decade',\n",
       " 'TF_decision',\n",
       " 'TF_decisions',\n",
       " 'TF_declaration',\n",
       " 'TF_delegation',\n",
       " 'TF_democracy',\n",
       " 'TF_democratic',\n",
       " 'TF_despite',\n",
       " 'TF_destruction',\n",
       " 'TF_determination',\n",
       " 'TF_developed',\n",
       " 'TF_developed countries',\n",
       " 'TF_developing',\n",
       " 'TF_developing countries',\n",
       " 'TF_development',\n",
       " 'TF_developments',\n",
       " 'TF_dialogue',\n",
       " 'TF_different',\n",
       " 'TF_difficult',\n",
       " 'TF_dignity',\n",
       " 'TF_disarmament',\n",
       " 'TF_does',\n",
       " 'TF_east',\n",
       " 'TF_economic',\n",
       " 'TF_economic social',\n",
       " 'TF_economies',\n",
       " 'TF_economy',\n",
       " 'TF_effective',\n",
       " 'TF_effort',\n",
       " 'TF_efforts',\n",
       " 'TF_election',\n",
       " 'TF_end',\n",
       " 'TF_energy',\n",
       " 'TF_ensure',\n",
       " 'TF_entire',\n",
       " 'TF_environment',\n",
       " 'TF_equality',\n",
       " 'TF_especially',\n",
       " 'TF_essential',\n",
       " 'TF_establish',\n",
       " 'TF_established',\n",
       " 'TF_establishment',\n",
       " 'TF_europe',\n",
       " 'TF_european',\n",
       " 'TF_events',\n",
       " 'TF_example',\n",
       " 'TF_experience',\n",
       " 'TF_express',\n",
       " 'TF_face',\n",
       " 'TF_facing',\n",
       " 'TF_fact',\n",
       " 'TF_far',\n",
       " 'TF_field',\n",
       " 'TF_fight',\n",
       " 'TF_financial',\n",
       " 'TF_following',\n",
       " 'TF_food',\n",
       " 'TF_force',\n",
       " 'TF_forces',\n",
       " 'TF_foreign',\n",
       " 'TF_forum',\n",
       " 'TF_forward',\n",
       " 'TF_framework',\n",
       " 'TF_free',\n",
       " 'TF_freedom',\n",
       " 'TF_fully',\n",
       " 'TF_fundamental',\n",
       " 'TF_future',\n",
       " 'TF_general',\n",
       " 'TF_general assembly',\n",
       " 'TF_given',\n",
       " 'TF_global',\n",
       " 'TF_goal',\n",
       " 'TF_goals',\n",
       " 'TF_good',\n",
       " 'TF_government',\n",
       " 'TF_governments',\n",
       " 'TF_great',\n",
       " 'TF_greater',\n",
       " 'TF_group',\n",
       " 'TF_growing',\n",
       " 'TF_growth',\n",
       " 'TF_hand',\n",
       " 'TF_held',\n",
       " 'TF_help',\n",
       " 'TF_high',\n",
       " 'TF_history',\n",
       " 'TF_hope',\n",
       " 'TF_hopes',\n",
       " 'TF_human',\n",
       " 'TF_human rights',\n",
       " 'TF_humanitarian',\n",
       " 'TF_humanity',\n",
       " 'TF_implementation',\n",
       " 'TF_importance',\n",
       " 'TF_important',\n",
       " 'TF_including',\n",
       " 'TF_increase',\n",
       " 'TF_increased',\n",
       " 'TF_increasing',\n",
       " 'TF_independence',\n",
       " 'TF_independent',\n",
       " 'TF_initiative',\n",
       " 'TF_initiatives',\n",
       " 'TF_institutions',\n",
       " 'TF_integrity',\n",
       " 'TF_interests',\n",
       " 'TF_internal',\n",
       " 'TF_international',\n",
       " 'TF_international community',\n",
       " 'TF_international economic',\n",
       " 'TF_international law',\n",
       " 'TF_international peace',\n",
       " 'TF_international relations',\n",
       " 'TF_iraq',\n",
       " 'TF_island',\n",
       " 'TF_israel',\n",
       " 'TF_israeli',\n",
       " 'TF_issue',\n",
       " 'TF_issues',\n",
       " 'TF_just',\n",
       " 'TF_justice',\n",
       " 'TF_keeping',\n",
       " 'TF_know',\n",
       " 'TF_korea',\n",
       " 'TF_large',\n",
       " 'TF_lasting',\n",
       " 'TF_latin',\n",
       " 'TF_law',\n",
       " 'TF_lead',\n",
       " 'TF_leaders',\n",
       " 'TF_leadership',\n",
       " 'TF_lebanon',\n",
       " 'TF_led',\n",
       " 'TF_legitimate',\n",
       " 'TF_let',\n",
       " 'TF_level',\n",
       " 'TF_liberation',\n",
       " 'TF_life',\n",
       " 'TF_like',\n",
       " 'TF_live',\n",
       " 'TF_lives',\n",
       " 'TF_living',\n",
       " 'TF_long',\n",
       " 'TF_look',\n",
       " 'TF_main',\n",
       " 'TF_major',\n",
       " 'TF_majority',\n",
       " 'TF_make',\n",
       " 'TF_making',\n",
       " 'TF_man',\n",
       " 'TF_mankind',\n",
       " 'TF_manner',\n",
       " 'TF_matter',\n",
       " 'TF_means',\n",
       " 'TF_measures',\n",
       " 'TF_meet',\n",
       " 'TF_meeting',\n",
       " 'TF_member',\n",
       " 'TF_member states',\n",
       " 'TF_members',\n",
       " 'TF_membership',\n",
       " 'TF_middle',\n",
       " 'TF_middle east',\n",
       " 'TF_military',\n",
       " 'TF_millennium',\n",
       " 'TF_million',\n",
       " 'TF_minister',\n",
       " 'TF_movement',\n",
       " 'TF_mr',\n",
       " 'TF_multilateral',\n",
       " 'TF_mutual',\n",
       " 'TF_namibia',\n",
       " 'TF_nation',\n",
       " 'TF_national',\n",
       " 'TF_nations',\n",
       " 'TF_natural',\n",
       " 'TF_nature',\n",
       " 'TF_necessary',\n",
       " 'TF_need',\n",
       " 'TF_needs',\n",
       " 'TF_negotiations',\n",
       " 'TF_new',\n",
       " 'TF_non',\n",
       " 'TF_non aligned',\n",
       " 'TF_north',\n",
       " 'TF_note',\n",
       " 'TF_nuclear',\n",
       " 'TF_nuclear weapons',\n",
       " 'TF_number',\n",
       " 'TF_objective',\n",
       " 'TF_objectives',\n",
       " 'TF_occupation',\n",
       " 'TF_open',\n",
       " 'TF_operation',\n",
       " 'TF_opportunity',\n",
       " 'TF_order',\n",
       " 'TF_organization',\n",
       " 'TF_organizations',\n",
       " 'TF_pacific',\n",
       " 'TF_palestine',\n",
       " 'TF_palestinian',\n",
       " 'TF_palestinian people',\n",
       " 'TF_participation',\n",
       " 'TF_particular',\n",
       " 'TF_particularly',\n",
       " 'TF_parties',\n",
       " 'TF_past',\n",
       " 'TF_pay',\n",
       " 'TF_peace',\n",
       " 'TF_peace security',\n",
       " 'TF_peaceful',\n",
       " 'TF_people',\n",
       " 'TF_people republic',\n",
       " 'TF_peoples',\n",
       " 'TF_period',\n",
       " 'TF_permanent',\n",
       " 'TF_place',\n",
       " 'TF_plan',\n",
       " 'TF_play',\n",
       " 'TF_point',\n",
       " 'TF_policies',\n",
       " 'TF_policy',\n",
       " 'TF_political',\n",
       " 'TF_poor',\n",
       " 'TF_population',\n",
       " 'TF_position',\n",
       " 'TF_positive',\n",
       " 'TF_possible',\n",
       " 'TF_poverty',\n",
       " 'TF_power',\n",
       " 'TF_powers',\n",
       " 'TF_present',\n",
       " 'TF_president',\n",
       " 'TF_prevent',\n",
       " 'TF_principle',\n",
       " 'TF_principles',\n",
       " 'TF_problem',\n",
       " 'TF_problems',\n",
       " 'TF_process',\n",
       " 'TF_programme',\n",
       " 'TF_progress',\n",
       " 'TF_proliferation',\n",
       " 'TF_promote',\n",
       " 'TF_proposals',\n",
       " 'TF_prosperity',\n",
       " 'TF_protection',\n",
       " 'TF_provide',\n",
       " 'TF_public',\n",
       " 'TF_purposes',\n",
       " 'TF_question',\n",
       " 'TF_race',\n",
       " 'TF_real',\n",
       " 'TF_reality',\n",
       " 'TF_reason',\n",
       " 'TF_recent',\n",
       " 'TF_recently',\n",
       " 'TF_recognized',\n",
       " 'TF_reform',\n",
       " 'TF_refugees',\n",
       " 'TF_regard',\n",
       " 'TF_regime',\n",
       " 'TF_region',\n",
       " 'TF_regional',\n",
       " 'TF_relations',\n",
       " 'TF_relevant',\n",
       " 'TF_remain',\n",
       " 'TF_remains',\n",
       " 'TF_report',\n",
       " 'TF_representative',\n",
       " 'TF_republic',\n",
       " 'TF_resolution',\n",
       " 'TF_resolutions',\n",
       " 'TF_resolve',\n",
       " 'TF_resources',\n",
       " 'TF_respect',\n",
       " 'TF_responsibility',\n",
       " 'TF_result',\n",
       " 'TF_results',\n",
       " 'TF_return',\n",
       " 'TF_right',\n",
       " 'TF_rights',\n",
       " 'TF_role',\n",
       " 'TF_rule',\n",
       " 'TF_said',\n",
       " 'TF_say',\n",
       " 'TF_sea',\n",
       " 'TF_second',\n",
       " 'TF_secretary',\n",
       " 'TF_secretary general',\n",
       " 'TF_security',\n",
       " 'TF_security council',\n",
       " 'TF_seek',\n",
       " 'TF_self',\n",
       " 'TF_self determination',\n",
       " 'TF_september',\n",
       " 'TF_session',\n",
       " 'TF_session general',\n",
       " 'TF_set',\n",
       " 'TF_settlement',\n",
       " 'TF_shall',\n",
       " 'TF_share',\n",
       " 'TF_significant',\n",
       " 'TF_situation',\n",
       " 'TF_small',\n",
       " 'TF_social',\n",
       " 'TF_society',\n",
       " 'TF_solidarity',\n",
       " 'TF_solution',\n",
       " 'TF_solutions',\n",
       " 'TF_south',\n",
       " 'TF_south africa',\n",
       " 'TF_southern',\n",
       " 'TF_sovereignty',\n",
       " 'TF_soviet',\n",
       " 'TF_soviet union',\n",
       " 'TF_special',\n",
       " 'TF_spirit',\n",
       " 'TF_stability',\n",
       " 'TF_state',\n",
       " 'TF_states',\n",
       " 'TF_step',\n",
       " 'TF_steps',\n",
       " 'TF_strengthen',\n",
       " 'TF_strengthening',\n",
       " 'TF_strong',\n",
       " 'TF_struggle',\n",
       " 'TF_success',\n",
       " 'TF_successful',\n",
       " 'TF_suffering',\n",
       " 'TF_summit',\n",
       " 'TF_support',\n",
       " 'TF_supports',\n",
       " 'TF_sustainable',\n",
       " 'TF_sustainable development',\n",
       " 'TF_taken',\n",
       " 'TF_taking',\n",
       " 'TF_task',\n",
       " 'TF_tension',\n",
       " 'TF_term',\n",
       " 'TF_terms',\n",
       " 'TF_territorial',\n",
       " 'TF_territorial integrity',\n",
       " 'TF_territories',\n",
       " 'TF_territory',\n",
       " 'TF_terrorism',\n",
       " 'TF_threat',\n",
       " 'TF_threats',\n",
       " 'TF_time',\n",
       " 'TF_times',\n",
       " 'TF_today',\n",
       " 'TF_trade',\n",
       " 'TF_treaty',\n",
       " 'TF_tribute',\n",
       " 'TF_true',\n",
       " 'TF_understanding',\n",
       " 'TF_union',\n",
       " 'TF_united',\n",
       " 'TF_united nations',\n",
       " 'TF_united states',\n",
       " 'TF_unity',\n",
       " 'TF_universal',\n",
       " 'TF_urgent',\n",
       " 'TF_use',\n",
       " 'TF_values',\n",
       " 'TF_various',\n",
       " 'TF_view',\n",
       " 'TF_violence',\n",
       " 'TF_want',\n",
       " 'TF_war',\n",
       " 'TF_way',\n",
       " 'TF_weapons',\n",
       " 'TF_welcome',\n",
       " 'TF_west',\n",
       " 'TF_western',\n",
       " 'TF_wish',\n",
       " 'TF_women',\n",
       " 'TF_work',\n",
       " 'TF_working',\n",
       " 'TF_world',\n",
       " 'TF_year',\n",
       " 'TF_years']"
      ]
     },
     "execution_count": 12,
     "metadata": {},
     "output_type": "execute_result"
    }
   ],
   "source": [
    "#On visualise la liste des mots ainsi créés\n",
    "features = data.columns.tolist()\n",
    "for i in ['session','year','country','text','mots','clean', 'stems']:\n",
    "    features.remove(i)\n",
    "features"
   ]
  },
  {
   "cell_type": "markdown",
   "metadata": {},
   "source": [
    "# 2. Classification"
   ]
  },
  {
   "cell_type": "markdown",
   "metadata": {},
   "source": [
    "Désormais, on peut faire notre classification. L'objectif est de construire un modèle permettant de prédire si l'on peut retrouver le pays à partir du discours."
   ]
  },
  {
   "cell_type": "markdown",
   "metadata": {},
   "source": [
    "## Préparation du modèle"
   ]
  },
  {
   "cell_type": "markdown",
   "metadata": {},
   "source": [
    "On construit à partir du data frame des arrays numpy pour pouvoir utiliser le module scikit learn"
   ]
  },
  {
   "cell_type": "code",
   "execution_count": 35,
   "metadata": {
    "collapsed": true
   },
   "outputs": [],
   "source": [
    "import sklearn\n",
    "from sklearn.preprocessing import LabelEncoder\n",
    "from sklearn.naive_bayes import GaussianNB, MultinomialNB\n",
    "from sklearn.model_selection import train_test_split\n",
    "from sklearn.svm import LinearSVC"
   ]
  },
  {
   "cell_type": "markdown",
   "metadata": {},
   "source": [
    "On choisir de ne garder comme features que les TF-variables (les indicateurs du poids de chaque mot dans les discours. En effet, nous avions essayé d'inclure les variables de longueur de discours et de phrases, propres davantage à la manière de s'exprimer, mais celles-ci baissaient énormément le score dans nos modèles."
   ]
  },
  {
   "cell_type": "code",
   "execution_count": 54,
   "metadata": {
    "collapsed": true
   },
   "outputs": [],
   "source": [
    "X = data.drop( ['session','year','country','text','mots','clean', 'stems', 'nb_char','nb_mots','phrases','nb_phrases','long_mots','long_phrases'],axis=1)\n",
    "y = data['country'] "
   ]
  },
  {
   "cell_type": "code",
   "execution_count": 55,
   "metadata": {
    "collapsed": true
   },
   "outputs": [],
   "source": [
    "#transformation en arrays numpy\n",
    "\n",
    "X = X.as_matrix()\n",
    "\n",
    "lb_make = LabelEncoder()\n",
    "y = lb_make.fit_transform(y)\n",
    "#recode les pays en entiers, par ordre alphabétique"
   ]
  },
  {
   "cell_type": "markdown",
   "metadata": {},
   "source": [
    "## Séparation de la base en données d'entraînement et données de test"
   ]
  },
  {
   "cell_type": "markdown",
   "metadata": {},
   "source": [
    "On construit nos deux bases en veillant à bien conserver tous les pays dans les mêmes proportions dans chaque base."
   ]
  },
  {
   "cell_type": "code",
   "execution_count": 56,
   "metadata": {
    "collapsed": true
   },
   "outputs": [],
   "source": [
    "X_train, X_test, y_train, y_test = train_test_split(X, y, test_size=0.25, stratify=y)\n",
    "#l'option stratify sert à garder la même proportion de chaque classe (ici, les pays) dans la base train et la base test"
   ]
  },
  {
   "cell_type": "code",
   "execution_count": 60,
   "metadata": {},
   "outputs": [
    {
     "data": {
      "text/plain": [
       "1877"
      ]
     },
     "execution_count": 60,
     "metadata": {},
     "output_type": "execute_result"
    }
   ],
   "source": [
    "len(y_test)"
   ]
  },
  {
   "cell_type": "markdown",
   "metadata": {},
   "source": [
    "## Tests de modèles de classification"
   ]
  },
  {
   "cell_type": "markdown",
   "metadata": {},
   "source": [
    "On construit différents modèles de classification, afin de comparer les tester sur notre base, et de comparer les résultats entre eux. On utilise les modèles mutinomalNB et LinéaireSVC"
   ]
  },
  {
   "cell_type": "code",
   "execution_count": 106,
   "metadata": {
    "collapsed": true
   },
   "outputs": [],
   "source": [
    "#Fonction de classification selon plusieurs modèles : \n",
    "\n",
    "def classification (model):\n",
    "    # on entraîne le modèle\n",
    "    clf = model\n",
    "    clf.fit(X_train, y_train)\n",
    "    \n",
    "    # on prédit les labels des données test\n",
    "    predicted = clf.predict(X_test)\n",
    "    expected = y_test\n",
    "    \n",
    "    print(predicted) \n",
    "    print(expected) \n",
    "    \n",
    "    #on compte le nombre de discours pour lesquels le modèle devine juste\n",
    "    nb_juste = 0\n",
    "    for i in range(len(predicted)):\n",
    "        if predicted[i] == expected[i]:\n",
    "            nb_juste += 1\n",
    "    print(nb_juste)\n",
    "    \n",
    "    #on calcule le score du modèle = pourcentage de réponses justes sur les données test\n",
    "    print(clf.score(X_test, y_test))"
   ]
  },
  {
   "cell_type": "code",
   "execution_count": 107,
   "metadata": {
    "scrolled": true
   },
   "outputs": [
    {
     "name": "stdout",
     "output_type": "stream",
     "text": [
      "[ 24 182 183 ...,  79 129  28]\n",
      "[  7 182  20 ...,  79 129  63]\n",
      "782\n",
      "0.416622269579\n",
      "[177 125 183 ...,  79 129  28]\n",
      "[  7 182  20 ...,  79 129  63]\n",
      "1324\n",
      "0.705380927011\n"
     ]
    }
   ],
   "source": [
    "#Essai avec les modèles multinomalNB et linéaireSVC\n",
    "classification(MultinomialNB())\n",
    "classification(LinearSVC())"
   ]
  },
  {
   "cell_type": "markdown",
   "metadata": {},
   "source": [
    "A l'aide des deux modèles de classification, on a pu prédire les pays avec des résultats différents. Le modèle multinomial prédit avec justesse 782 pays sur les 1877 de notre base test (c'est-à-dire 40% de la base test), et le modèle linéaire a de meilleurs résultats, avec 70% de prédiction de pays juste. Le modèle linéaire est donc assez bon et a l'air de mieux correspondre à nos données."
   ]
  },
  {
   "cell_type": "markdown",
   "metadata": {},
   "source": [
    "## Essai de prédiction du continent plutôt que du pays"
   ]
  },
  {
   "cell_type": "markdown",
   "metadata": {},
   "source": [
    "Bien que l'on obtienne de bons résultats de prédiction de pays avec nos modèles de classification, on cherche à savoir s'il est possible de prédire le continent. On aurait moins de classes à trouver (6, car on considère l'Amérique du Nord et l'Amérique du Sud comme deux continents distincts). Pour ce faire, il faut supposer que les pays appartenant à un même continent font leurs discours sur des thématiques assez proches, hypothèse qui est tout à fait envisageable."
   ]
  },
  {
   "cell_type": "markdown",
   "metadata": {},
   "source": [
    "### Création des variables de continent"
   ]
  },
  {
   "cell_type": "code",
   "execution_count": 61,
   "metadata": {
    "collapsed": true
   },
   "outputs": [],
   "source": [
    "import pycountry_convert as pc\n",
    "\n",
    "#création d'une variable continent\n",
    "#passage par le code en 2 lettres car le module pycountry-convert ne permet pas de passer du code en 3 lettres au continent\n",
    "data['continent'] = data['country'].apply(lambda x : pc.country_alpha3_to_country_alpha2(x) if len(x)==3 and x not in ['CSK','YUG','DDR'] else x)\n",
    "#conversion en continent, en enlevant les valeurs qui donnent une erreur\n",
    "data['continent'] = data['continent'].apply(lambda x : pc.country_alpha2_to_continent_code(x) if (len(x)==2) and x not in ['EU', 'TL','VA'] else x)\n",
    "#traitement des valeurs d'erreur en recherchant le pays à la main\n",
    "data['continent'] = data['continent'].replace('YUG','EU') #Yougoslavie\n",
    "data['continent'] = data['continent'].replace('CSK','EU') #Tchécoslovaquie\n",
    "data['continent'] = data['continent'].replace('YDYE','AF') #République Démocratique du Yémen\n",
    "data['continent'] = data['continent'].replace('DDR','EU') #RDA\n",
    "data['continent'] = data['continent'].replace('TL','AS') #Timor oriental\n",
    "data['continent'] = data['continent'].replace('VA','EU') #Vatican"
   ]
  },
  {
   "cell_type": "code",
   "execution_count": 62,
   "metadata": {},
   "outputs": [
    {
     "data": {
      "text/plain": [
       "AF    2178\n",
       "AS    1839\n",
       "EU    1622\n",
       "NA     934\n",
       "SA     540\n",
       "OC     394\n",
       "Name: continent, dtype: int64"
      ]
     },
     "execution_count": 62,
     "metadata": {},
     "output_type": "execute_result"
    }
   ],
   "source": [
    "data['continent'].value_counts()"
   ]
  },
  {
   "cell_type": "code",
   "execution_count": 235,
   "metadata": {
    "collapsed": true
   },
   "outputs": [],
   "source": [
    "continents = pd.DataFrame(y2,data['continent'])\n",
    "continents = continents.drop_duplicates()\n",
    "#table pour associer les numéros aux codes de continent, numéros attribués par ordre alphabétique"
   ]
  },
  {
   "cell_type": "code",
   "execution_count": 63,
   "metadata": {
    "collapsed": true
   },
   "outputs": [],
   "source": [
    "y2 = data['continent']\n",
    "y2 = lb_make.fit_transform(y2)"
   ]
  },
  {
   "cell_type": "markdown",
   "metadata": {},
   "source": [
    "### Prédiction du continent"
   ]
  },
  {
   "cell_type": "markdown",
   "metadata": {},
   "source": [
    "On sépare notre base en test et train, toujours avec l'option stratify, puis on fait plusieurs modèles de classification."
   ]
  },
  {
   "cell_type": "code",
   "execution_count": 64,
   "metadata": {
    "collapsed": true
   },
   "outputs": [],
   "source": [
    "X_train2, X_test2, y_train2, y_test2 = train_test_split(X, y2, test_size=0.25, stratify=y2)"
   ]
  },
  {
   "cell_type": "code",
   "execution_count": 65,
   "metadata": {
    "collapsed": true
   },
   "outputs": [],
   "source": [
    "#Fonction de classification selon plusieurs modèles : \n",
    "\n",
    "def classification2 (model):\n",
    "    # on entraîne le modèle\n",
    "    clf = model\n",
    "    clf.fit(X_train2, y_train2)\n",
    "    \n",
    "    # on prédit les labels des données test\n",
    "    predicted = clf.predict(X_test2)\n",
    "    expected = y_test2\n",
    "    \n",
    "    print(predicted) \n",
    "    print(expected) \n",
    "    \n",
    "    #on compte le nombre de discours pour lesquels le modèle devine juste\n",
    "    nb_juste = 0\n",
    "    for i in range(len(predicted)):\n",
    "        if predicted[i] == expected[i]:\n",
    "            nb_juste += 1\n",
    "    print(nb_juste)\n",
    "    \n",
    "    #on calcule le score du modèle = pourcentage de réponses justes sur les données test\n",
    "    print(clf.score(X_test2, y_test2))"
   ]
  },
  {
   "cell_type": "code",
   "execution_count": 66,
   "metadata": {},
   "outputs": [
    {
     "name": "stdout",
     "output_type": "stream",
     "text": [
      "[1 0 1 ..., 0 2 0]\n",
      "[0 3 1 ..., 0 1 3]\n",
      "1335\n",
      "0.711241342568\n",
      "[1 5 1 ..., 0 1 1]\n",
      "[0 3 1 ..., 0 1 3]\n",
      "1666\n",
      "0.887586574321\n"
     ]
    }
   ],
   "source": [
    "classification2(MultinomialNB())\n",
    "classification2(LinearSVC())"
   ]
  },
  {
   "cell_type": "markdown",
   "metadata": {
    "collapsed": true
   },
   "source": [
    "Les résultats de nos classifications à partir des continents sont meilleurs qu'avec nos pays : cela est à priori assez logique, puisque l'on a 6 classes au lieu de 199 précédemment, ce qui diminue considérablement le risque d'erreurs. Les deux modèles, multinomial et linéaire, affichent ici de très bons résultats, puisqu'il permettent de prédire jusqu'à 90% des classes de notre base test. Ces résultats témoignent par ailleurs de similarités entre les discours des différents pays d'un même continent, en ce qui concerne les termes et expressions employés par les représentants de l'ONU."
   ]
  },
  {
   "cell_type": "markdown",
   "metadata": {},
   "source": [
    "# 3. Cross-validation"
   ]
  },
  {
   "cell_type": "markdown",
   "metadata": {},
   "source": [
    "Nos modèles ont des résultats relativement bons : ils permettent de prédire les pays pour jusqu'à 70% des discours, et les continents pour jusqu'à près de 90% des discours. Cependant, pour justifier de la validité de nos modèles, nous devons nous pencher sur un autre problème, qui est celui du risque de surapprentissage, ou \"overfitting\", de nos modèles. En effet, si un modèle apprend \"trop\" bien sur la base d'entraînement (on parle parfois d'apprentissage \"par coeur\" des données, le modèle décrit parfaitement les données de la base train), il risque de perdre de son pouvoir de prédiction sur la base de test.\n",
    "\n",
    "Pour vérifier si notre modèle est bien ajusté, ou s'il est overfitted, on utilise la technique de cross-validation. \n",
    "\n",
    "On n'effectue la cross-validation que sur le modèles linéaire, car il a un pouvoir de prédiction bien meilleur que le modèle multinomial."
   ]
  },
  {
   "cell_type": "markdown",
   "metadata": {},
   "source": [
    "## Pour les pays"
   ]
  },
  {
   "cell_type": "code",
   "execution_count": 221,
   "metadata": {},
   "outputs": [
    {
     "data": {
      "text/plain": [
       "array([ 0.64772727,  0.64109589,  0.64391691,  0.64705882])"
      ]
     },
     "execution_count": 221,
     "metadata": {},
     "output_type": "execute_result"
    }
   ],
   "source": [
    "from sklearn.model_selection import cross_val_score\n",
    "clf = LinearSVC()\n",
    "scores = cross_val_score(clf, X_train, y_train, cv=4) \n",
    "#on ne peut pas faire cv>4 car les classes les moins représentées n'ont que 4 occurrences dans X_train\n",
    "scores"
   ]
  },
  {
   "cell_type": "code",
   "execution_count": 222,
   "metadata": {},
   "outputs": [
    {
     "data": {
      "text/plain": [
       "0.64494972515355775"
      ]
     },
     "execution_count": 222,
     "metadata": {},
     "output_type": "execute_result"
    }
   ],
   "source": [
    "scores.mean()"
   ]
  },
  {
   "cell_type": "code",
   "execution_count": 223,
   "metadata": {},
   "outputs": [
    {
     "data": {
      "text/plain": [
       "0.70538092701118804"
      ]
     },
     "execution_count": 223,
     "metadata": {},
     "output_type": "execute_result"
    }
   ],
   "source": [
    "clf.fit(X_train,y_train)\n",
    "clf.score(X_test,y_test)"
   ]
  },
  {
   "cell_type": "markdown",
   "metadata": {},
   "source": [
    "On effectue une cross-validation selon différents paramètres"
   ]
  },
  {
   "cell_type": "markdown",
   "metadata": {},
   "source": [
    "#### Selon le paramètre d'erreur C"
   ]
  },
  {
   "cell_type": "code",
   "execution_count": 224,
   "metadata": {
    "collapsed": true
   },
   "outputs": [],
   "source": [
    "from sklearn.model_selection import validation_curve \n",
    "\n",
    "degres = np.arange(0.5, 4, step=0.5)\n",
    "model=LinearSVC()\n",
    "    \n",
    "train_scores, validation_scores = validation_curve(\n",
    "                 model, X_train, y_train,\n",
    "                 param_name='C',\n",
    "                 param_range=degres)"
   ]
  },
  {
   "cell_type": "code",
   "execution_count": 225,
   "metadata": {},
   "outputs": [
    {
     "data": {
      "text/plain": [
       "<matplotlib.legend.Legend at 0x1aca01ba5f8>"
      ]
     },
     "execution_count": 225,
     "metadata": {},
     "output_type": "execute_result"
    },
    {
     "data": {
      "image/png": "[encoded data removed]",
      "text/plain": [
       "<matplotlib.figure.Figure at 0x1ac9ca12cf8>"
      ]
     },
     "metadata": {},
     "output_type": "display_data"
    }
   ],
   "source": [
    "plt.plot(degres, validation_scores.mean(axis=1), label='cross-validation')  \n",
    "plt.plot(degres, train_scores.mean(axis=1), label='training') # proche de 1 : prédit presque parfaitement les données train\n",
    "\n",
    "plt.legend(loc='best')  "
   ]
  },
  {
   "cell_type": "markdown",
   "metadata": {},
   "source": [
    "#### Selon le paramètre max_iter "
   ]
  },
  {
   "cell_type": "code",
   "execution_count": 226,
   "metadata": {
    "collapsed": true
   },
   "outputs": [],
   "source": [
    "iterations = np.arange(500, 2500, step=500)\n",
    "model=LinearSVC()\n",
    "    \n",
    "train_scores, validation_scores = validation_curve(\n",
    "                 model, X_train, y_train,\n",
    "                 param_name='max_iter',\n",
    "                 param_range=iterations)"
   ]
  },
  {
   "cell_type": "code",
   "execution_count": 227,
   "metadata": {},
   "outputs": [
    {
     "data": {
      "text/plain": [
       "<matplotlib.legend.Legend at 0x1ac9a91ba20>"
      ]
     },
     "execution_count": 227,
     "metadata": {},
     "output_type": "execute_result"
    },
    {
     "data": {
      "image/png": "[encoded data removed]",
      "text/plain": [
       "<matplotlib.figure.Figure at 0x1ac9d6a0b70>"
      ]
     },
     "metadata": {},
     "output_type": "display_data"
    }
   ],
   "source": [
    "plt.plot(iterations, validation_scores.mean(axis=1), label='cross-validation')  \n",
    "plt.plot(iterations, train_scores.mean(axis=1), label='training') \n",
    "\n",
    "plt.legend(loc='best') "
   ]
  },
  {
   "cell_type": "markdown",
   "metadata": {},
   "source": [
    "Le score ne change quasiment pas avec la variation du paramètre d'itérations."
   ]
  },
  {
   "cell_type": "markdown",
   "metadata": {},
   "source": [
    "#### En enlevant le calcul de l'intercept"
   ]
  },
  {
   "cell_type": "code",
   "execution_count": 228,
   "metadata": {},
   "outputs": [
    {
     "data": {
      "text/plain": [
       "0.64119755883636842"
      ]
     },
     "execution_count": 228,
     "metadata": {},
     "output_type": "execute_result"
    }
   ],
   "source": [
    "clf = LinearSVC(fit_intercept=False)\n",
    "scores = cross_val_score(clf, X_train, y_train, cv=4) #on ne peut pas faire c>4 car les classes les moins représentées n'ont que 4 occurrences dans X_train\n",
    "scores.mean() #valait 0.65 avec intercept"
   ]
  },
  {
   "cell_type": "markdown",
   "metadata": {},
   "source": [
    "On observe que le modèle est légèrement overfitted : le score est plus élevé pour la base de training que pour la cross-validation, et ce peu importe les paramètres. Par conséquent, on décide de conserver les paramètres par défaut, notamment C=1 qui minimise tout de même l'over-fitting."
   ]
  },
  {
   "cell_type": "markdown",
   "metadata": {},
   "source": [
    "## Pour les continents"
   ]
  },
  {
   "cell_type": "code",
   "execution_count": 229,
   "metadata": {},
   "outputs": [
    {
     "data": {
      "text/plain": [
       "array([ 0.88308237,  0.87566607,  0.87388988,  0.88      ,  0.87989324])"
      ]
     },
     "execution_count": 229,
     "metadata": {},
     "output_type": "execute_result"
    }
   ],
   "source": [
    "clf = LinearSVC()\n",
    "scores = cross_val_score(clf, X_train2, y_train2, cv=5)\n",
    "scores"
   ]
  },
  {
   "cell_type": "code",
   "execution_count": 230,
   "metadata": {},
   "outputs": [
    {
     "data": {
      "text/plain": [
       "0.87850631249654021"
      ]
     },
     "execution_count": 230,
     "metadata": {},
     "output_type": "execute_result"
    }
   ],
   "source": [
    "scores.mean()"
   ]
  },
  {
   "cell_type": "code",
   "execution_count": 231,
   "metadata": {},
   "outputs": [
    {
     "data": {
      "text/plain": [
       "<matplotlib.legend.Legend at 0x1ac9cee2240>"
      ]
     },
     "execution_count": 231,
     "metadata": {},
     "output_type": "execute_result"
    },
    {
     "data": {
      "image/png": "[encoded data removed]",
      "text/plain": [
       "<matplotlib.figure.Figure at 0x1aca562b080>"
      ]
     },
     "metadata": {},
     "output_type": "display_data"
    }
   ],
   "source": [
    "degres = np.arange(0.5, 7, step=0.5)\n",
    "model=LinearSVC()\n",
    "    \n",
    "train_scores, validation_scores = validation_curve(\n",
    "                 model, X_train2, y_train2,\n",
    "                 param_name='C',\n",
    "                 param_range=degres)\n",
    "\n",
    "plt.plot(degres, validation_scores.mean(axis=1), label='cross-validation')  \n",
    "plt.plot(degres, train_scores.mean(axis=1), label='training') \n",
    "\n",
    "plt.legend(loc='best')  "
   ]
  },
  {
   "cell_type": "code",
   "execution_count": 232,
   "metadata": {},
   "outputs": [
    {
     "data": {
      "text/plain": [
       "<matplotlib.legend.Legend at 0x1aca05617f0>"
      ]
     },
     "execution_count": 232,
     "metadata": {},
     "output_type": "execute_result"
    },
    {
     "data": {
      "image/png": "[encoded data removed]",
      "text/plain": [
       "<matplotlib.figure.Figure at 0x1ac9cf2c208>"
      ]
     },
     "metadata": {},
     "output_type": "display_data"
    }
   ],
   "source": [
    "iterations = np.arange(500, 2000, step=500)\n",
    "model=LinearSVC()\n",
    "    \n",
    "train_scores, validation_scores = validation_curve(\n",
    "                 model, X_train2, y_train2,\n",
    "                 param_name='max_iter',\n",
    "                 param_range=iterations)\n",
    "\n",
    "plt.plot(iterations, validation_scores.mean(axis=1), label='cross-validation')  \n",
    "plt.plot(iterations, train_scores.mean(axis=1), label='training') \n",
    "\n",
    "plt.legend(loc='best') "
   ]
  },
  {
   "cell_type": "markdown",
   "metadata": {},
   "source": [
    "De même que pour la prédiction des pays, la variation du paramètre du maximum d'itérations ne change presque rien au score du modèle linéaire."
   ]
  },
  {
   "cell_type": "code",
   "execution_count": 233,
   "metadata": {},
   "outputs": [
    {
     "data": {
      "text/plain": [
       "0.87796998075029753"
      ]
     },
     "execution_count": 233,
     "metadata": {},
     "output_type": "execute_result"
    }
   ],
   "source": [
    "clf = LinearSVC(fit_intercept=False)\n",
    "scores = cross_val_score(clf, X_train2, y_train2, cv=5) \n",
    "scores.mean() #valait 0.88 avec intercept -> change très peu"
   ]
  },
  {
   "cell_type": "markdown",
   "metadata": {},
   "source": [
    "Le modèle linéaire pour les continents est également légèrement overfitted, mais beaucoup moins que celui des pays. On choisit également de conserver les paramètres par défaut car ils minimisent l'overfit."
   ]
  },
  {
   "cell_type": "markdown",
   "metadata": {},
   "source": [
    "# 4. Comparaison des deux modèles dans la prédiction des pays"
   ]
  },
  {
   "cell_type": "markdown",
   "metadata": {},
   "source": [
    "On veut savoir dans quelle mesure les deux modèles auxquels ont a eu recours pour notre classification sur les pays prédisent de la même manière."
   ]
  },
  {
   "cell_type": "markdown",
   "metadata": {},
   "source": [
    "On récupère tout d'abord les valeurs des scores prédits."
   ]
  },
  {
   "cell_type": "code",
   "execution_count": 113,
   "metadata": {
    "collapsed": true
   },
   "outputs": [],
   "source": [
    "clf=MultinomialNB()\n",
    "clf.fit(X_train, y_train)\n",
    "multi=clf.predict(X_test)\n",
    "clf=LinearSVC()\n",
    "clf.fit(X_train, y_train)\n",
    "lin=clf.predict(X_test)"
   ]
  },
  {
   "cell_type": "markdown",
   "metadata": {},
   "source": [
    "On cherche d'abord dans quelle mesure les deux modèles sont en accord"
   ]
  },
  {
   "cell_type": "code",
   "execution_count": 245,
   "metadata": {},
   "outputs": [
    {
     "name": "stdout",
     "output_type": "stream",
     "text": [
      "Proportion d'accord entre les deux modèles : 0.4805540756526372\n"
     ]
    }
   ],
   "source": [
    "compa=multi==lin\n",
    "\n",
    "i=0\n",
    "for comp in compa :\n",
    "    if comp :\n",
    "        i+=1\n",
    "print(\"Proportion d'accord entre les deux modèles : \"+ str(i/len(compa)) )"
   ]
  },
  {
   "cell_type": "markdown",
   "metadata": {},
   "source": [
    "Par conséquent, le modèle linéaire et le modèle multinomial sont en accord dans près de la moitié des cas. Dans la mesure où le modèle multinomial prédisait justement dans 41% des cas, cela signifie qu'il y a des cas où les deux modèles sont en accord mais en ayant tort (ils prédisent tous les deux le même pays, mais pas le bon). Il peut également y avoir des cas où l'un des modèles a raison et l'autre a tort."
   ]
  },
  {
   "cell_type": "markdown",
   "metadata": {},
   "source": [
    "### Cas où l'un des modèles seulement a raison"
   ]
  },
  {
   "cell_type": "markdown",
   "metadata": {},
   "source": [
    "On veut savoir si des pays reviennent parmi les cas mal prédits par l'un, l'autre, ou les deux modèles, afin de voir si certaines catégories de pays sont trop difficiles à classer pour nos modèles."
   ]
  },
  {
   "cell_type": "markdown",
   "metadata": {},
   "source": [
    "#### Quand le modèle multinomial prédit mieux que le modèle linéaire"
   ]
  },
  {
   "cell_type": "markdown",
   "metadata": {},
   "source": [
    "On s'intéresse au cas où le modèle multinomial prédit justement, et le modèle linéaire (qui réussit bien mieux que le modèle multinomial) a tort. On suppose que ce cas est assez rare, puisqu'on suppose que les pays prédits justement par le modèle multinomials sont aussi ceux où le modèle linéaire a raison."
   ]
  },
  {
   "cell_type": "code",
   "execution_count": 135,
   "metadata": {},
   "outputs": [
    {
     "name": "stdout",
     "output_type": "stream",
     "text": [
      "Proportion de cas où multi a raison et lin a tort : 0.03090037293553543\n",
      "Effectivement, on a très peu de cas où le modèle multinomial a raison et le modèle linéaire a tort\n"
     ]
    }
   ],
   "source": [
    "multi_raison=y_test==multi\n",
    "lin_tort=y_test!=lin\n",
    "\n",
    "i=0\n",
    "diff_multi_raison=[]\n",
    "for j in range(len(multi_raison)) :\n",
    "    if multi_raison[j] :\n",
    "        if lin_tort[j]:\n",
    "            i+=1\n",
    "            diff_multi_raison.append(y_test[j])\n",
    "            \n",
    "            \n",
    "print(\"Proportion de cas où multi a raison et lin a tort : \"+ str(i/len(y_test))\n",
    "     +\"\\nEffectivement, on a très peu de cas où le modèle multinomial a raison et le modèle linéaire a tort\")"
   ]
  },
  {
   "cell_type": "markdown",
   "metadata": {},
   "source": [
    "On va chercher dans quels pays le modèle multinomial a raison, et le modèle linéaire tort, et si ça revient dans certains cas"
   ]
  },
  {
   "cell_type": "code",
   "execution_count": 151,
   "metadata": {},
   "outputs": [
    {
     "data": {
      "text/plain": [
       "[(29, 4), (129, 3), (62, 3), (88, 3), (24, 3)]"
      ]
     },
     "execution_count": 151,
     "metadata": {},
     "output_type": "execute_result"
    }
   ],
   "source": [
    "from collections import Counter\n",
    "c1= Counter(diff_multi_raison).most_common(5)\n",
    "c1"
   ]
  },
  {
   "cell_type": "code",
   "execution_count": 205,
   "metadata": {},
   "outputs": [
    {
     "name": "stdout",
     "output_type": "stream",
     "text": [
      "    code nom_pays\n",
      "25    29      CAN\n",
      "     code nom_pays\n",
      "132   129      NGA\n",
      "     code nom_pays\n",
      "262    62      FSM\n",
      "     code nom_pays\n",
      "130    88      JOR\n",
      "    code nom_pays\n",
      "84    24      BRB\n"
     ]
    }
   ],
   "source": [
    "d = {'code': y, 'nom_pays': data['country']}\n",
    "pays=pd.DataFrame(data=d)\n",
    "pays=pays.drop_duplicates()\n",
    "print(pays[pays.code ==29])\n",
    "print(pays[pays.code ==129])\n",
    "print(pays[pays.code ==62])\n",
    "print(pays[pays.code ==88])\n",
    "print(pays[pays.code ==24])"
   ]
  },
  {
   "cell_type": "markdown",
   "metadata": {},
   "source": [
    "On peut repérer les pays que le modèle multinomial arrive mieux à classifier, tels que le Canada, le Nigéria, la Jordanie."
   ]
  },
  {
   "cell_type": "markdown",
   "metadata": {},
   "source": [
    "#### Cas où le modèle linéaire prédit mieux que le modèle multinomial"
   ]
  },
  {
   "cell_type": "markdown",
   "metadata": {},
   "source": [
    "Cherchons maintenant les cas où le modèle linéaire a raison mais le modèle multinomial a tort"
   ]
  },
  {
   "cell_type": "code",
   "execution_count": 141,
   "metadata": {},
   "outputs": [
    {
     "name": "stdout",
     "output_type": "stream",
     "text": [
      "Proportion de cas où lin a raison et multi a tort : 0.3196590303676079\n",
      "C'est à dire que dans 31% des cas, le modèle linéaire est le seul à avoir raison\n"
     ]
    }
   ],
   "source": [
    "lin_raison=y_test==lin\n",
    "multi_tort=y_test!=multi\n",
    "\n",
    "i=0\n",
    "diff_lin_raison=[]\n",
    "for j in range(len(lin_raison)) :\n",
    "    if lin_raison[j] :\n",
    "        if multi_tort[j]:\n",
    "            i+=1\n",
    "            diff_lin_raison.append(y_test[j])\n",
    "            \n",
    "            \n",
    "print(\"Proportion de cas où lin a raison et multi a tort : \"+ str(i/len(y_test))\n",
    "      +\"\\nC'est à dire que dans 31% des cas, le modèle linéaire est le seul à avoir raison\")"
   ]
  },
  {
   "cell_type": "code",
   "execution_count": 208,
   "metadata": {},
   "outputs": [
    {
     "data": {
      "text/plain": [
       "[(27, 8),\n",
       " (1, 8),\n",
       " (160, 8),\n",
       " (143, 7),\n",
       " (78, 7),\n",
       " (122, 7),\n",
       " (156, 7),\n",
       " (163, 7),\n",
       " (118, 7),\n",
       " (105, 7)]"
      ]
     },
     "execution_count": 208,
     "metadata": {},
     "output_type": "execute_result"
    }
   ],
   "source": [
    "c2= Counter(diff_lin_raison).most_common(10)\n",
    "c2"
   ]
  },
  {
   "cell_type": "code",
   "execution_count": 209,
   "metadata": {},
   "outputs": [
    {
     "name": "stdout",
     "output_type": "stream",
     "text": [
      "    code nom_pays\n",
      "90    27      BWA\n",
      "    code nom_pays\n",
      "45     1      AGO\n",
      "     code nom_pays\n",
      "146   160      SOM\n",
      "    code nom_pays\n",
      "88   143      POL\n",
      "    code nom_pays\n",
      "86    78      HUN\n"
     ]
    }
   ],
   "source": [
    "print(pays[pays.code ==27])\n",
    "print(pays[pays.code ==1])\n",
    "print(pays[pays.code ==160])\n",
    "print(pays[pays.code ==143])\n",
    "print(pays[pays.code ==78])"
   ]
  },
  {
   "cell_type": "markdown",
   "metadata": {},
   "source": [
    "Et les pays que seul le modèle linéaire arrive mieux à prédire, tels que Botswana, Pologne, Angola"
   ]
  },
  {
   "cell_type": "markdown",
   "metadata": {},
   "source": [
    "### Cas où les deux modèles se trompent"
   ]
  },
  {
   "cell_type": "markdown",
   "metadata": {},
   "source": [
    "A présent, cherchons s'il y a des pays pour lesquels aucun des deux modèles n'arrive à faire une prédiction juste."
   ]
  },
  {
   "cell_type": "code",
   "execution_count": 246,
   "metadata": {},
   "outputs": [
    {
     "name": "stdout",
     "output_type": "stream",
     "text": [
      "Proportion de cas où les deux modèles se trompent : 0.2637187000532765\n",
      "C'est à dire que dans 26% des cas, aucun modèle n'a raison\n"
     ]
    }
   ],
   "source": [
    "lin_tort=y_test!=lin\n",
    "multi_tort=y_test!=multi\n",
    "\n",
    "i=0\n",
    "tort=[]\n",
    "for j in range(len(lin_tort)) :\n",
    "    if lin_tort[j] :\n",
    "        if multi_tort[j]:\n",
    "            i+=1\n",
    "            tort.append(y_test[j])\n",
    "            \n",
    "            \n",
    "print(\"Proportion de cas où les deux modèles se trompent : \"+ str(i/len(y_test))\n",
    "      +\"\\nC'est à dire que dans 26% des cas, aucun modèle n'a raison\")"
   ]
  },
  {
   "cell_type": "code",
   "execution_count": 220,
   "metadata": {},
   "outputs": [
    {
     "data": {
      "text/plain": [
       "[(151, 10),\n",
       " (128, 9),\n",
       " (139, 9),\n",
       " (158, 8),\n",
       " (66, 8),\n",
       " (117, 8),\n",
       " (69, 8),\n",
       " (36, 7),\n",
       " (13, 7),\n",
       " (130, 7),\n",
       " (73, 7),\n",
       " (29, 7),\n",
       " (33, 7),\n",
       " (14, 7),\n",
       " (34, 7),\n",
       " (197, 6),\n",
       " (106, 6),\n",
       " (168, 6),\n",
       " (157, 6),\n",
       " (112, 6),\n",
       " (132, 6),\n",
       " (167, 6),\n",
       " (131, 5),\n",
       " (182, 5),\n",
       " (56, 5),\n",
       " (18, 5),\n",
       " (125, 5),\n",
       " (8, 5),\n",
       " (16, 5),\n",
       " (52, 5),\n",
       " (63, 5),\n",
       " (126, 5),\n",
       " (12, 5),\n",
       " (162, 5),\n",
       " (124, 5),\n",
       " (26, 5),\n",
       " (7, 4),\n",
       " (20, 4),\n",
       " (198, 4),\n",
       " (114, 4)]"
      ]
     },
     "execution_count": 220,
     "metadata": {},
     "output_type": "execute_result"
    }
   ],
   "source": [
    "c3= Counter(tort).most_common(40)\n",
    "c3"
   ]
  },
  {
   "cell_type": "code",
   "execution_count": 214,
   "metadata": {},
   "outputs": [
    {
     "name": "stdout",
     "output_type": "stream",
     "text": [
      "    code nom_pays\n",
      "24   151      RWA\n",
      "   code nom_pays\n",
      "2   128      NER\n",
      "     code nom_pays\n",
      "127   139      PER\n",
      "    code nom_pays\n",
      "12   158      SLV\n",
      "    code nom_pays\n",
      "79    66      GHA\n",
      "    code nom_pays\n",
      "75   117      MLI\n",
      "    code nom_pays\n",
      "89    69      GNB\n",
      "     code nom_pays\n",
      "131    36      COG\n",
      "     code nom_pays\n",
      "145    13      BEN\n",
      "    code nom_pays\n",
      "96   130      NIC\n"
     ]
    }
   ],
   "source": [
    "print(pays[pays.code ==151])\n",
    "print(pays[pays.code ==128])\n",
    "print(pays[pays.code ==139])\n",
    "print(pays[pays.code ==158])\n",
    "print(pays[pays.code ==66])\n",
    "print(pays[pays.code ==117])\n",
    "print(pays[pays.code ==69])\n",
    "print(pays[pays.code ==36])\n",
    "print(pays[pays.code ==13])\n",
    "print(pays[pays.code ==130])"
   ]
  },
  {
   "cell_type": "markdown",
   "metadata": {},
   "source": [
    "Finalement, il n'y a pas de \"gros pays\" (ie qui a fait des discours 40 fois à l'ONU) qui n'a pas été prédit du tout. Le pays qui a le plus de valeurs mal prédites par les deux modèles est le Rwanda. "
   ]
  },
  {
   "cell_type": "markdown",
   "metadata": {},
   "source": [
    "# Conclusion"
   ]
  },
  {
   "cell_type": "markdown",
   "metadata": {},
   "source": [
    "Nous avons construit un modèle qui prédit relativement bien le pays (par rapport au nombre de pays différents possibles), et très bien le continent (plus facile à prédire car le modèle a une chance sur 6 de tomber juste). L'over-fit est plus important pour le pays que pour le continent, ce qui était attendu. On aurait pu tenter de le réduire dans le premier cas en réduisant par exemple le nombre de features, mais la construction de nos features a été très coûteuse en temps et nous avons préféré les conserver, pour ne pas perdre d'information pour le modèle de prédiction du continent. Notre modèle est donc raisonnablement exploitable, si l'on ne craint pas les conséquences diplomatiques que pourrait créer une erreur de prédiction. \n",
    "\n",
    "Il aurait sans doute été enrichissant pour notre modèle d'avoir davantage de données à notre disposition. Cependant, au vu du coût de certaines méthodes qui ont parfois tourné plus de 10 minutes, notre programme ne supporterait pas forcément une forte augmentation de la taille de l'échantillon. De plus, nous avons choisi de ne pas tenir compte de la date des discours pour notre analyse, mais remonter plus loin dans le temps pour collecter des discours aurait pu apporter un biais au modèle car les pays ont pu changer de politique, et on peut se douter qu'il y a eu depuis 1945 une évolution des termes employés, avec par exemple l'apparition du champ lexical du terrorisme ou du réchauffement climatique. \n",
    "\n",
    "Notre modèle donne une idée de l'importance du discours dans la représentation de l'identité d'un pays. Chaque pays a sa propre façon de s'exprimer, et cela est encore plus vrai à propos des continents : notre analyse nous permet donc d'explorer également les possibles proximités entre les pays, et plus seulement ce qui les distingue.\n"
   ]
  },
  {
   "cell_type": "markdown",
   "metadata": {},
   "source": [
    "# Annexe "
   ]
  },
  {
   "cell_type": "code",
   "execution_count": 244,
   "metadata": {
    "scrolled": true
   },
   "outputs": [
    {
     "name": "stdout",
     "output_type": "stream",
     "text": [
      "ACP : proximités entre les pays\n",
      "           0\n",
      "continent   \n",
      "AF         0\n",
      "AS         1\n",
      "EU         2\n",
      "NA         3\n",
      "OC         4\n",
      "SA         5\n"
     ]
    },
    {
     "data": {
      "image/png": "[encoded data removed]",
      "text/plain": [
       "<matplotlib.figure.Figure at 0x1ac983a93c8>"
      ]
     },
     "metadata": {},
     "output_type": "display_data"
    }
   ],
   "source": [
    "from sklearn.decomposition import PCA\n",
    "pca = PCA(n_components=2)\n",
    "proj = pca.fit_transform(X)\n",
    "plt.scatter(proj[:, 0], proj[:, 1], c=y2, cmap='gist_rainbow') \n",
    "plt.colorbar() \n",
    "print('ACP : proximités entre les pays')\n",
    "print(continents.sort_index())"
   ]
  },
  {
   "cell_type": "code",
   "execution_count": null,
   "metadata": {
    "collapsed": true
   },
   "outputs": [],
   "source": []
  }
 ],
 "metadata": {
  "kernelspec": {
   "display_name": "Python 3",
   "language": "python",
   "name": "python3"
  },
  "language_info": {
   "codemirror_mode": {
    "name": "ipython",
    "version": 3
   },
   "file_extension": ".py",
   "mimetype": "text/x-python",
   "name": "python",
   "nbconvert_exporter": "python",
   "pygments_lexer": "ipython3",
   "version": "3.6.3"
  }
 },
 "nbformat": 4,
 "nbformat_minor": 2
}
